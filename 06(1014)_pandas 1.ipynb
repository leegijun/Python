{
 "cells": [
  {
   "cell_type": "markdown",
   "metadata": {},
   "source": [
    "# 강의"
   ]
  },
  {
   "cell_type": "code",
   "execution_count": 43,
   "metadata": {
    "collapsed": false,
    "scrolled": true
   },
   "outputs": [
    {
     "name": "stdout",
     "output_type": "stream",
     "text": [
      "d\t df\t pd\t s\t \n"
     ]
    }
   ],
   "source": [
    "%who"
   ]
  },
  {
   "cell_type": "markdown",
   "metadata": {},
   "source": [
    "=================================================================================="
   ]
  },
  {
   "cell_type": "markdown",
   "metadata": {},
   "source": [
    "# Pandas "
   ]
  },
  {
   "cell_type": "markdown",
   "metadata": {},
   "source": [
    "R의 데이터프레임(data.frame)과 같은 형식으로 데이터를 다룰 수 있게 해주는 라이브러리"
   ]
  },
  {
   "cell_type": "markdown",
   "metadata": {},
   "source": [
    "Series는 R의 vector와, DataFrame은 R의 data.frame과 유사"
   ]
  },
  {
   "cell_type": "markdown",
   "metadata": {},
   "source": [
    "pandas.pydata.org"
   ]
  },
  {
   "cell_type": "code",
   "execution_count": 2,
   "metadata": {
    "collapsed": true
   },
   "outputs": [],
   "source": [
    "import pandas as pd"
   ]
  },
  {
   "cell_type": "markdown",
   "metadata": {},
   "source": [
    "## series "
   ]
  },
  {
   "cell_type": "code",
   "execution_count": 3,
   "metadata": {
    "collapsed": false
   },
   "outputs": [],
   "source": [
    "s = pd.Series([1,2,3,4,5]) # R에서는 list라고 말함"
   ]
  },
  {
   "cell_type": "code",
   "execution_count": 4,
   "metadata": {
    "collapsed": false
   },
   "outputs": [
    {
     "data": {
      "text/plain": [
       "0    1\n",
       "1    2\n",
       "2    3\n",
       "3    4\n",
       "4    5\n",
       "dtype: int64"
      ]
     },
     "execution_count": 4,
     "metadata": {},
     "output_type": "execute_result"
    }
   ],
   "source": [
    "s"
   ]
  },
  {
   "cell_type": "code",
   "execution_count": 5,
   "metadata": {
    "collapsed": false
   },
   "outputs": [
    {
     "data": {
      "text/plain": [
       "1"
      ]
     },
     "execution_count": 5,
     "metadata": {},
     "output_type": "execute_result"
    }
   ],
   "source": [
    "s[0]"
   ]
  },
  {
   "cell_type": "code",
   "execution_count": 6,
   "metadata": {
    "collapsed": false
   },
   "outputs": [
    {
     "data": {
      "text/plain": [
       "2    3\n",
       "3    4\n",
       "4    5\n",
       "dtype: int64"
      ]
     },
     "execution_count": 6,
     "metadata": {},
     "output_type": "execute_result"
    }
   ],
   "source": [
    "s[2:5]"
   ]
  },
  {
   "cell_type": "code",
   "execution_count": 7,
   "metadata": {
    "collapsed": false,
    "scrolled": true
   },
   "outputs": [
    {
     "data": {
      "text/plain": [
       "0    False\n",
       "1     True\n",
       "2    False\n",
       "3     True\n",
       "4    False\n",
       "dtype: bool"
      ]
     },
     "execution_count": 7,
     "metadata": {},
     "output_type": "execute_result"
    }
   ],
   "source": [
    "s % 2 == 0"
   ]
  },
  {
   "cell_type": "code",
   "execution_count": 8,
   "metadata": {
    "collapsed": false
   },
   "outputs": [
    {
     "data": {
      "text/plain": [
       "0    False\n",
       "1     True\n",
       "2    False\n",
       "3    False\n",
       "4    False\n",
       "dtype: bool"
      ]
     },
     "execution_count": 8,
     "metadata": {},
     "output_type": "execute_result"
    }
   ],
   "source": [
    "s - 2 == 0"
   ]
  },
  {
   "cell_type": "markdown",
   "metadata": {},
   "source": [
    "### 조건에 맞는 값만 가져오기"
   ]
  },
  {
   "cell_type": "code",
   "execution_count": 9,
   "metadata": {
    "collapsed": false
   },
   "outputs": [
    {
     "data": {
      "text/plain": [
       "1    2\n",
       "3    4\n",
       "dtype: int64"
      ]
     },
     "execution_count": 9,
     "metadata": {},
     "output_type": "execute_result"
    }
   ],
   "source": [
    "s[s % 2 == 0]"
   ]
  },
  {
   "cell_type": "markdown",
   "metadata": {},
   "source": [
    "## 날짜 다루기"
   ]
  },
  {
   "cell_type": "code",
   "execution_count": 17,
   "metadata": {
    "collapsed": true
   },
   "outputs": [],
   "source": [
    "d = pd.date_range('20170829', periods=5)"
   ]
  },
  {
   "cell_type": "code",
   "execution_count": 18,
   "metadata": {
    "collapsed": false
   },
   "outputs": [
    {
     "data": {
      "text/plain": [
       "DatetimeIndex(['2017-08-29', '2017-08-30', '2017-08-31', '2017-09-01',\n",
       "               '2017-09-02'],\n",
       "              dtype='datetime64[ns]', freq='D')"
      ]
     },
     "execution_count": 18,
     "metadata": {},
     "output_type": "execute_result"
    }
   ],
   "source": [
    "d"
   ]
  },
  {
   "cell_type": "code",
   "execution_count": 19,
   "metadata": {
    "collapsed": false
   },
   "outputs": [
    {
     "data": {
      "text/plain": [
       "DatetimeIndex(['2017-09-01', '2017-11-01', '2018-01-01', '2018-03-01',\n",
       "               '2018-05-01'],\n",
       "              dtype='datetime64[ns]', freq='2MS')"
      ]
     },
     "execution_count": 19,
     "metadata": {},
     "output_type": "execute_result"
    }
   ],
   "source": [
    "pd.date_range('20170829', periods=5, freq='2MS')"
   ]
  },
  {
   "cell_type": "code",
   "execution_count": 20,
   "metadata": {
    "collapsed": false,
    "scrolled": true
   },
   "outputs": [
    {
     "data": {
      "text/plain": [
       "DatetimeIndex(['2017-09-11', '2017-11-11', '2018-01-11', '2018-03-11',\n",
       "               '2018-05-11'],\n",
       "              dtype='datetime64[ns]', freq=None)"
      ]
     },
     "execution_count": 20,
     "metadata": {},
     "output_type": "execute_result"
    }
   ],
   "source": [
    "pd.date_range('20170829', periods=5, freq='2MS') + pd.DateOffset(days=10)"
   ]
  },
  {
   "cell_type": "markdown",
   "metadata": {},
   "source": [
    "실습 : 5개월 간 매달 15일"
   ]
  },
  {
   "cell_type": "code",
   "execution_count": 21,
   "metadata": {
    "collapsed": false
   },
   "outputs": [
    {
     "data": {
      "text/plain": [
       "DatetimeIndex(['2017-11-15', '2017-12-15', '2018-01-15', '2018-02-15',\n",
       "               '2018-03-15'],\n",
       "              dtype='datetime64[ns]', freq=None)"
      ]
     },
     "execution_count": 21,
     "metadata": {},
     "output_type": "execute_result"
    }
   ],
   "source": [
    "pd.date_range('20171014', periods=5, freq='1MS') + pd.DateOffset(days=14)"
   ]
  },
  {
   "cell_type": "code",
   "execution_count": 22,
   "metadata": {
    "collapsed": false,
    "scrolled": true
   },
   "outputs": [
    {
     "data": {
      "text/plain": [
       "DatetimeIndex(['2017-10-31', '2017-11-30', '2017-12-31', '2018-01-31',\n",
       "               '2018-02-28'],\n",
       "              dtype='datetime64[ns]', freq='M')"
      ]
     },
     "execution_count": 22,
     "metadata": {},
     "output_type": "execute_result"
    }
   ],
   "source": [
    "pd.date_range('20171014', periods=5, freq='1MS') + pd.DateOffset(days=-1)"
   ]
  },
  {
   "cell_type": "code",
   "execution_count": 23,
   "metadata": {
    "collapsed": false
   },
   "outputs": [
    {
     "data": {
      "text/plain": [
       "Timestamp('2017-10-14 00:00:00')"
      ]
     },
     "execution_count": 23,
     "metadata": {},
     "output_type": "execute_result"
    }
   ],
   "source": [
    "pd.to_datetime('today')"
   ]
  },
  {
   "cell_type": "code",
   "execution_count": 24,
   "metadata": {
    "collapsed": false
   },
   "outputs": [
    {
     "data": {
      "text/plain": [
       "Timestamp('2017-10-13 00:00:00')"
      ]
     },
     "execution_count": 24,
     "metadata": {},
     "output_type": "execute_result"
    }
   ],
   "source": [
    "pd.to_datetime('today') + pd.DateOffset(days=-1)"
   ]
  },
  {
   "cell_type": "code",
   "execution_count": 25,
   "metadata": {
    "collapsed": false
   },
   "outputs": [
    {
     "data": {
      "text/plain": [
       "Timestamp('2017-10-13 00:00:00')"
      ]
     },
     "execution_count": 25,
     "metadata": {},
     "output_type": "execute_result"
    }
   ],
   "source": [
    "pd.to_datetime('20171013')"
   ]
  },
  {
   "cell_type": "markdown",
   "metadata": {},
   "source": [
    "## DataFrame"
   ]
  },
  {
   "cell_type": "code",
   "execution_count": 34,
   "metadata": {
    "collapsed": false
   },
   "outputs": [],
   "source": [
    "df = pd.DataFrame({'date': d, 'num': s})"
   ]
  },
  {
   "cell_type": "code",
   "execution_count": 35,
   "metadata": {
    "collapsed": false
   },
   "outputs": [
    {
     "data": {
      "text/html": [
       "<div>\n",
       "<style>\n",
       "    .dataframe thead tr:only-child th {\n",
       "        text-align: right;\n",
       "    }\n",
       "\n",
       "    .dataframe thead th {\n",
       "        text-align: left;\n",
       "    }\n",
       "\n",
       "    .dataframe tbody tr th {\n",
       "        vertical-align: top;\n",
       "    }\n",
       "</style>\n",
       "<table border=\"1\" class=\"dataframe\">\n",
       "  <thead>\n",
       "    <tr style=\"text-align: right;\">\n",
       "      <th></th>\n",
       "      <th>date</th>\n",
       "      <th>num</th>\n",
       "    </tr>\n",
       "  </thead>\n",
       "  <tbody>\n",
       "    <tr>\n",
       "      <th>0</th>\n",
       "      <td>2017-08-29</td>\n",
       "      <td>1</td>\n",
       "    </tr>\n",
       "    <tr>\n",
       "      <th>1</th>\n",
       "      <td>2017-08-30</td>\n",
       "      <td>2</td>\n",
       "    </tr>\n",
       "    <tr>\n",
       "      <th>2</th>\n",
       "      <td>2017-08-31</td>\n",
       "      <td>3</td>\n",
       "    </tr>\n",
       "    <tr>\n",
       "      <th>3</th>\n",
       "      <td>2017-09-01</td>\n",
       "      <td>4</td>\n",
       "    </tr>\n",
       "    <tr>\n",
       "      <th>4</th>\n",
       "      <td>2017-09-02</td>\n",
       "      <td>5</td>\n",
       "    </tr>\n",
       "  </tbody>\n",
       "</table>\n",
       "</div>"
      ],
      "text/plain": [
       "        date  num\n",
       "0 2017-08-29    1\n",
       "1 2017-08-30    2\n",
       "2 2017-08-31    3\n",
       "3 2017-09-01    4\n",
       "4 2017-09-02    5"
      ]
     },
     "execution_count": 35,
     "metadata": {},
     "output_type": "execute_result"
    }
   ],
   "source": [
    "df"
   ]
  },
  {
   "cell_type": "code",
   "execution_count": 36,
   "metadata": {
    "collapsed": false
   },
   "outputs": [
    {
     "data": {
      "text/html": [
       "<div>\n",
       "<style>\n",
       "    .dataframe thead tr:only-child th {\n",
       "        text-align: right;\n",
       "    }\n",
       "\n",
       "    .dataframe thead th {\n",
       "        text-align: left;\n",
       "    }\n",
       "\n",
       "    .dataframe tbody tr th {\n",
       "        vertical-align: top;\n",
       "    }\n",
       "</style>\n",
       "<table border=\"1\" class=\"dataframe\">\n",
       "  <thead>\n",
       "    <tr style=\"text-align: right;\">\n",
       "      <th></th>\n",
       "      <th>date</th>\n",
       "      <th>num</th>\n",
       "    </tr>\n",
       "  </thead>\n",
       "  <tbody>\n",
       "    <tr>\n",
       "      <th>0</th>\n",
       "      <td>2017-08-29</td>\n",
       "      <td>1</td>\n",
       "    </tr>\n",
       "    <tr>\n",
       "      <th>1</th>\n",
       "      <td>2017-08-30</td>\n",
       "      <td>2</td>\n",
       "    </tr>\n",
       "    <tr>\n",
       "      <th>2</th>\n",
       "      <td>2017-08-31</td>\n",
       "      <td>3</td>\n",
       "    </tr>\n",
       "  </tbody>\n",
       "</table>\n",
       "</div>"
      ],
      "text/plain": [
       "        date  num\n",
       "0 2017-08-29    1\n",
       "1 2017-08-30    2\n",
       "2 2017-08-31    3"
      ]
     },
     "execution_count": 36,
     "metadata": {},
     "output_type": "execute_result"
    }
   ],
   "source": [
    "df.head(3)"
   ]
  },
  {
   "cell_type": "code",
   "execution_count": 37,
   "metadata": {
    "collapsed": false
   },
   "outputs": [
    {
     "data": {
      "text/html": [
       "<div>\n",
       "<style>\n",
       "    .dataframe thead tr:only-child th {\n",
       "        text-align: right;\n",
       "    }\n",
       "\n",
       "    .dataframe thead th {\n",
       "        text-align: left;\n",
       "    }\n",
       "\n",
       "    .dataframe tbody tr th {\n",
       "        vertical-align: top;\n",
       "    }\n",
       "</style>\n",
       "<table border=\"1\" class=\"dataframe\">\n",
       "  <thead>\n",
       "    <tr style=\"text-align: right;\">\n",
       "      <th></th>\n",
       "      <th>date</th>\n",
       "      <th>num</th>\n",
       "    </tr>\n",
       "  </thead>\n",
       "  <tbody>\n",
       "    <tr>\n",
       "      <th>2</th>\n",
       "      <td>2017-08-31</td>\n",
       "      <td>3</td>\n",
       "    </tr>\n",
       "    <tr>\n",
       "      <th>3</th>\n",
       "      <td>2017-09-01</td>\n",
       "      <td>4</td>\n",
       "    </tr>\n",
       "    <tr>\n",
       "      <th>4</th>\n",
       "      <td>2017-09-02</td>\n",
       "      <td>5</td>\n",
       "    </tr>\n",
       "  </tbody>\n",
       "</table>\n",
       "</div>"
      ],
      "text/plain": [
       "        date  num\n",
       "2 2017-08-31    3\n",
       "3 2017-09-01    4\n",
       "4 2017-09-02    5"
      ]
     },
     "execution_count": 37,
     "metadata": {},
     "output_type": "execute_result"
    }
   ],
   "source": [
    "df.tail(3)"
   ]
  },
  {
   "cell_type": "code",
   "execution_count": 38,
   "metadata": {
    "collapsed": false
   },
   "outputs": [
    {
     "data": {
      "text/plain": [
       "Index(['date', 'num'], dtype='object')"
      ]
     },
     "execution_count": 38,
     "metadata": {},
     "output_type": "execute_result"
    }
   ],
   "source": [
    "df.columns"
   ]
  },
  {
   "cell_type": "code",
   "execution_count": 39,
   "metadata": {
    "collapsed": false
   },
   "outputs": [
    {
     "data": {
      "text/plain": [
       "RangeIndex(start=0, stop=5, step=1)"
      ]
     },
     "execution_count": 39,
     "metadata": {},
     "output_type": "execute_result"
    }
   ],
   "source": [
    "df.index"
   ]
  },
  {
   "cell_type": "code",
   "execution_count": 40,
   "metadata": {
    "collapsed": false
   },
   "outputs": [
    {
     "data": {
      "text/plain": [
       "array([[Timestamp('2017-08-29 00:00:00'), 1],\n",
       "       [Timestamp('2017-08-30 00:00:00'), 2],\n",
       "       [Timestamp('2017-08-31 00:00:00'), 3],\n",
       "       [Timestamp('2017-09-01 00:00:00'), 4],\n",
       "       [Timestamp('2017-09-02 00:00:00'), 5]], dtype=object)"
      ]
     },
     "execution_count": 40,
     "metadata": {},
     "output_type": "execute_result"
    }
   ],
   "source": [
    "df.values"
   ]
  },
  {
   "cell_type": "code",
   "execution_count": 41,
   "metadata": {
    "collapsed": false
   },
   "outputs": [
    {
     "data": {
      "text/plain": [
       "date    datetime64[ns]\n",
       "num              int64\n",
       "dtype: object"
      ]
     },
     "execution_count": 41,
     "metadata": {},
     "output_type": "execute_result"
    }
   ],
   "source": [
    "df.dtypes"
   ]
  },
  {
   "cell_type": "markdown",
   "metadata": {},
   "source": [
    "## DataFrame 만드는 방법"
   ]
  },
  {
   "cell_type": "code",
   "execution_count": 22,
   "metadata": {
    "collapsed": true
   },
   "outputs": [],
   "source": [
    "d1 = pd.DataFrame(\n",
    "    [\n",
    "        {'A': 1, 'B': 2},\n",
    "        {'A': 3, 'B': 4}\n",
    "    ])"
   ]
  },
  {
   "cell_type": "code",
   "execution_count": 23,
   "metadata": {
    "collapsed": false
   },
   "outputs": [
    {
     "data": {
      "text/html": [
       "<div>\n",
       "<style>\n",
       "    .dataframe thead tr:only-child th {\n",
       "        text-align: right;\n",
       "    }\n",
       "\n",
       "    .dataframe thead th {\n",
       "        text-align: left;\n",
       "    }\n",
       "\n",
       "    .dataframe tbody tr th {\n",
       "        vertical-align: top;\n",
       "    }\n",
       "</style>\n",
       "<table border=\"1\" class=\"dataframe\">\n",
       "  <thead>\n",
       "    <tr style=\"text-align: right;\">\n",
       "      <th></th>\n",
       "      <th>A</th>\n",
       "      <th>B</th>\n",
       "    </tr>\n",
       "  </thead>\n",
       "  <tbody>\n",
       "    <tr>\n",
       "      <th>0</th>\n",
       "      <td>1</td>\n",
       "      <td>2</td>\n",
       "    </tr>\n",
       "    <tr>\n",
       "      <th>1</th>\n",
       "      <td>3</td>\n",
       "      <td>4</td>\n",
       "    </tr>\n",
       "  </tbody>\n",
       "</table>\n",
       "</div>"
      ],
      "text/plain": [
       "   A  B\n",
       "0  1  2\n",
       "1  3  4"
      ]
     },
     "execution_count": 23,
     "metadata": {},
     "output_type": "execute_result"
    }
   ],
   "source": [
    "d1"
   ]
  },
  {
   "cell_type": "markdown",
   "metadata": {},
   "source": [
    "## 열이름, 행이름 바꾸기"
   ]
  },
  {
   "cell_type": "code",
   "execution_count": 45,
   "metadata": {
    "collapsed": true
   },
   "outputs": [],
   "source": [
    "df.columns = ['날짜', '번호']"
   ]
  },
  {
   "cell_type": "code",
   "execution_count": 46,
   "metadata": {
    "collapsed": false
   },
   "outputs": [
    {
     "data": {
      "text/html": [
       "<div>\n",
       "<style>\n",
       "    .dataframe thead tr:only-child th {\n",
       "        text-align: right;\n",
       "    }\n",
       "\n",
       "    .dataframe thead th {\n",
       "        text-align: left;\n",
       "    }\n",
       "\n",
       "    .dataframe tbody tr th {\n",
       "        vertical-align: top;\n",
       "    }\n",
       "</style>\n",
       "<table border=\"1\" class=\"dataframe\">\n",
       "  <thead>\n",
       "    <tr style=\"text-align: right;\">\n",
       "      <th></th>\n",
       "      <th>날짜</th>\n",
       "      <th>번호</th>\n",
       "    </tr>\n",
       "  </thead>\n",
       "  <tbody>\n",
       "    <tr>\n",
       "      <th>0</th>\n",
       "      <td>2017-08-29</td>\n",
       "      <td>1</td>\n",
       "    </tr>\n",
       "    <tr>\n",
       "      <th>1</th>\n",
       "      <td>2017-08-30</td>\n",
       "      <td>2</td>\n",
       "    </tr>\n",
       "    <tr>\n",
       "      <th>2</th>\n",
       "      <td>2017-08-31</td>\n",
       "      <td>3</td>\n",
       "    </tr>\n",
       "    <tr>\n",
       "      <th>3</th>\n",
       "      <td>2017-09-01</td>\n",
       "      <td>4</td>\n",
       "    </tr>\n",
       "    <tr>\n",
       "      <th>4</th>\n",
       "      <td>2017-09-02</td>\n",
       "      <td>5</td>\n",
       "    </tr>\n",
       "  </tbody>\n",
       "</table>\n",
       "</div>"
      ],
      "text/plain": [
       "          날짜  번호\n",
       "0 2017-08-29   1\n",
       "1 2017-08-30   2\n",
       "2 2017-08-31   3\n",
       "3 2017-09-01   4\n",
       "4 2017-09-02   5"
      ]
     },
     "execution_count": 46,
     "metadata": {},
     "output_type": "execute_result"
    }
   ],
   "source": [
    "df"
   ]
  },
  {
   "cell_type": "code",
   "execution_count": 47,
   "metadata": {
    "collapsed": true
   },
   "outputs": [],
   "source": [
    "df.index = ['A','B','C','D','E']"
   ]
  },
  {
   "cell_type": "code",
   "execution_count": 48,
   "metadata": {
    "collapsed": false
   },
   "outputs": [
    {
     "data": {
      "text/html": [
       "<div>\n",
       "<style>\n",
       "    .dataframe thead tr:only-child th {\n",
       "        text-align: right;\n",
       "    }\n",
       "\n",
       "    .dataframe thead th {\n",
       "        text-align: left;\n",
       "    }\n",
       "\n",
       "    .dataframe tbody tr th {\n",
       "        vertical-align: top;\n",
       "    }\n",
       "</style>\n",
       "<table border=\"1\" class=\"dataframe\">\n",
       "  <thead>\n",
       "    <tr style=\"text-align: right;\">\n",
       "      <th></th>\n",
       "      <th>날짜</th>\n",
       "      <th>번호</th>\n",
       "    </tr>\n",
       "  </thead>\n",
       "  <tbody>\n",
       "    <tr>\n",
       "      <th>A</th>\n",
       "      <td>2017-08-29</td>\n",
       "      <td>1</td>\n",
       "    </tr>\n",
       "    <tr>\n",
       "      <th>B</th>\n",
       "      <td>2017-08-30</td>\n",
       "      <td>2</td>\n",
       "    </tr>\n",
       "    <tr>\n",
       "      <th>C</th>\n",
       "      <td>2017-08-31</td>\n",
       "      <td>3</td>\n",
       "    </tr>\n",
       "    <tr>\n",
       "      <th>D</th>\n",
       "      <td>2017-09-01</td>\n",
       "      <td>4</td>\n",
       "    </tr>\n",
       "    <tr>\n",
       "      <th>E</th>\n",
       "      <td>2017-09-02</td>\n",
       "      <td>5</td>\n",
       "    </tr>\n",
       "  </tbody>\n",
       "</table>\n",
       "</div>"
      ],
      "text/plain": [
       "          날짜  번호\n",
       "A 2017-08-29   1\n",
       "B 2017-08-30   2\n",
       "C 2017-08-31   3\n",
       "D 2017-09-01   4\n",
       "E 2017-09-02   5"
      ]
     },
     "execution_count": 48,
     "metadata": {},
     "output_type": "execute_result"
    }
   ],
   "source": [
    "df"
   ]
  },
  {
   "cell_type": "code",
   "execution_count": 49,
   "metadata": {
    "collapsed": false
   },
   "outputs": [
    {
     "data": {
      "text/html": [
       "<div>\n",
       "<style>\n",
       "    .dataframe thead tr:only-child th {\n",
       "        text-align: right;\n",
       "    }\n",
       "\n",
       "    .dataframe thead th {\n",
       "        text-align: left;\n",
       "    }\n",
       "\n",
       "    .dataframe tbody tr th {\n",
       "        vertical-align: top;\n",
       "    }\n",
       "</style>\n",
       "<table border=\"1\" class=\"dataframe\">\n",
       "  <thead>\n",
       "    <tr style=\"text-align: right;\">\n",
       "      <th></th>\n",
       "      <th>번호</th>\n",
       "    </tr>\n",
       "    <tr>\n",
       "      <th>날짜</th>\n",
       "      <th></th>\n",
       "    </tr>\n",
       "  </thead>\n",
       "  <tbody>\n",
       "    <tr>\n",
       "      <th>2017-08-29</th>\n",
       "      <td>1</td>\n",
       "    </tr>\n",
       "    <tr>\n",
       "      <th>2017-08-30</th>\n",
       "      <td>2</td>\n",
       "    </tr>\n",
       "    <tr>\n",
       "      <th>2017-08-31</th>\n",
       "      <td>3</td>\n",
       "    </tr>\n",
       "    <tr>\n",
       "      <th>2017-09-01</th>\n",
       "      <td>4</td>\n",
       "    </tr>\n",
       "    <tr>\n",
       "      <th>2017-09-02</th>\n",
       "      <td>5</td>\n",
       "    </tr>\n",
       "  </tbody>\n",
       "</table>\n",
       "</div>"
      ],
      "text/plain": [
       "            번호\n",
       "날짜            \n",
       "2017-08-29   1\n",
       "2017-08-30   2\n",
       "2017-08-31   3\n",
       "2017-09-01   4\n",
       "2017-09-02   5"
      ]
     },
     "execution_count": 49,
     "metadata": {},
     "output_type": "execute_result"
    }
   ],
   "source": [
    "df.set_index('날짜')"
   ]
  },
  {
   "cell_type": "code",
   "execution_count": 50,
   "metadata": {
    "collapsed": false
   },
   "outputs": [
    {
     "data": {
      "text/html": [
       "<div>\n",
       "<style>\n",
       "    .dataframe thead tr:only-child th {\n",
       "        text-align: right;\n",
       "    }\n",
       "\n",
       "    .dataframe thead th {\n",
       "        text-align: left;\n",
       "    }\n",
       "\n",
       "    .dataframe tbody tr th {\n",
       "        vertical-align: top;\n",
       "    }\n",
       "</style>\n",
       "<table border=\"1\" class=\"dataframe\">\n",
       "  <thead>\n",
       "    <tr style=\"text-align: right;\">\n",
       "      <th></th>\n",
       "      <th>날짜</th>\n",
       "      <th>번호</th>\n",
       "    </tr>\n",
       "  </thead>\n",
       "  <tbody>\n",
       "    <tr>\n",
       "      <th>E</th>\n",
       "      <td>2017-09-02</td>\n",
       "      <td>5</td>\n",
       "    </tr>\n",
       "    <tr>\n",
       "      <th>D</th>\n",
       "      <td>2017-09-01</td>\n",
       "      <td>4</td>\n",
       "    </tr>\n",
       "    <tr>\n",
       "      <th>C</th>\n",
       "      <td>2017-08-31</td>\n",
       "      <td>3</td>\n",
       "    </tr>\n",
       "    <tr>\n",
       "      <th>B</th>\n",
       "      <td>2017-08-30</td>\n",
       "      <td>2</td>\n",
       "    </tr>\n",
       "    <tr>\n",
       "      <th>A</th>\n",
       "      <td>2017-08-29</td>\n",
       "      <td>1</td>\n",
       "    </tr>\n",
       "  </tbody>\n",
       "</table>\n",
       "</div>"
      ],
      "text/plain": [
       "          날짜  번호\n",
       "E 2017-09-02   5\n",
       "D 2017-09-01   4\n",
       "C 2017-08-31   3\n",
       "B 2017-08-30   2\n",
       "A 2017-08-29   1"
      ]
     },
     "execution_count": 50,
     "metadata": {},
     "output_type": "execute_result"
    }
   ],
   "source": [
    "df.sort_values(by='날짜', ascending=False) #내림차순"
   ]
  },
  {
   "cell_type": "code",
   "execution_count": 51,
   "metadata": {
    "collapsed": false
   },
   "outputs": [
    {
     "data": {
      "text/plain": [
       "A   2017-08-29\n",
       "B   2017-08-30\n",
       "C   2017-08-31\n",
       "D   2017-09-01\n",
       "E   2017-09-02\n",
       "Name: 날짜, dtype: datetime64[ns]"
      ]
     },
     "execution_count": 51,
     "metadata": {},
     "output_type": "execute_result"
    }
   ],
   "source": [
    "df['날짜']"
   ]
  },
  {
   "cell_type": "code",
   "execution_count": 52,
   "metadata": {
    "collapsed": false
   },
   "outputs": [
    {
     "data": {
      "text/html": [
       "<div>\n",
       "<style>\n",
       "    .dataframe thead tr:only-child th {\n",
       "        text-align: right;\n",
       "    }\n",
       "\n",
       "    .dataframe thead th {\n",
       "        text-align: left;\n",
       "    }\n",
       "\n",
       "    .dataframe tbody tr th {\n",
       "        vertical-align: top;\n",
       "    }\n",
       "</style>\n",
       "<table border=\"1\" class=\"dataframe\">\n",
       "  <thead>\n",
       "    <tr style=\"text-align: right;\">\n",
       "      <th></th>\n",
       "      <th>번호</th>\n",
       "      <th>날짜</th>\n",
       "    </tr>\n",
       "  </thead>\n",
       "  <tbody>\n",
       "    <tr>\n",
       "      <th>A</th>\n",
       "      <td>1</td>\n",
       "      <td>2017-08-29</td>\n",
       "    </tr>\n",
       "    <tr>\n",
       "      <th>B</th>\n",
       "      <td>2</td>\n",
       "      <td>2017-08-30</td>\n",
       "    </tr>\n",
       "    <tr>\n",
       "      <th>C</th>\n",
       "      <td>3</td>\n",
       "      <td>2017-08-31</td>\n",
       "    </tr>\n",
       "    <tr>\n",
       "      <th>D</th>\n",
       "      <td>4</td>\n",
       "      <td>2017-09-01</td>\n",
       "    </tr>\n",
       "    <tr>\n",
       "      <th>E</th>\n",
       "      <td>5</td>\n",
       "      <td>2017-09-02</td>\n",
       "    </tr>\n",
       "  </tbody>\n",
       "</table>\n",
       "</div>"
      ],
      "text/plain": [
       "   번호         날짜\n",
       "A   1 2017-08-29\n",
       "B   2 2017-08-30\n",
       "C   3 2017-08-31\n",
       "D   4 2017-09-01\n",
       "E   5 2017-09-02"
      ]
     },
     "execution_count": 52,
     "metadata": {},
     "output_type": "execute_result"
    }
   ],
   "source": [
    "df[['번호', '날짜']]"
   ]
  },
  {
   "cell_type": "markdown",
   "metadata": {},
   "source": [
    "## 행 선택 "
   ]
  },
  {
   "cell_type": "code",
   "execution_count": 53,
   "metadata": {
    "collapsed": false
   },
   "outputs": [
    {
     "data": {
      "text/plain": [
       "날짜    2017-08-29 00:00:00\n",
       "번호                      1\n",
       "Name: A, dtype: object"
      ]
     },
     "execution_count": 53,
     "metadata": {},
     "output_type": "execute_result"
    }
   ],
   "source": [
    "df.loc['A']"
   ]
  },
  {
   "cell_type": "code",
   "execution_count": 54,
   "metadata": {
    "collapsed": false
   },
   "outputs": [
    {
     "data": {
      "text/html": [
       "<div>\n",
       "<style>\n",
       "    .dataframe thead tr:only-child th {\n",
       "        text-align: right;\n",
       "    }\n",
       "\n",
       "    .dataframe thead th {\n",
       "        text-align: left;\n",
       "    }\n",
       "\n",
       "    .dataframe tbody tr th {\n",
       "        vertical-align: top;\n",
       "    }\n",
       "</style>\n",
       "<table border=\"1\" class=\"dataframe\">\n",
       "  <thead>\n",
       "    <tr style=\"text-align: right;\">\n",
       "      <th></th>\n",
       "      <th>날짜</th>\n",
       "      <th>번호</th>\n",
       "    </tr>\n",
       "  </thead>\n",
       "  <tbody>\n",
       "    <tr>\n",
       "      <th>A</th>\n",
       "      <td>2017-08-29</td>\n",
       "      <td>1</td>\n",
       "    </tr>\n",
       "    <tr>\n",
       "      <th>B</th>\n",
       "      <td>2017-08-30</td>\n",
       "      <td>2</td>\n",
       "    </tr>\n",
       "  </tbody>\n",
       "</table>\n",
       "</div>"
      ],
      "text/plain": [
       "          날짜  번호\n",
       "A 2017-08-29   1\n",
       "B 2017-08-30   2"
      ]
     },
     "execution_count": 54,
     "metadata": {},
     "output_type": "execute_result"
    }
   ],
   "source": [
    "df.loc[['A', 'B']]"
   ]
  },
  {
   "cell_type": "code",
   "execution_count": 35,
   "metadata": {
    "collapsed": false
   },
   "outputs": [
    {
     "data": {
      "text/html": [
       "<div>\n",
       "<style>\n",
       "    .dataframe thead tr:only-child th {\n",
       "        text-align: right;\n",
       "    }\n",
       "\n",
       "    .dataframe thead th {\n",
       "        text-align: left;\n",
       "    }\n",
       "\n",
       "    .dataframe tbody tr th {\n",
       "        vertical-align: top;\n",
       "    }\n",
       "</style>\n",
       "<table border=\"1\" class=\"dataframe\">\n",
       "  <thead>\n",
       "    <tr style=\"text-align: right;\">\n",
       "      <th></th>\n",
       "      <th>날짜</th>\n",
       "      <th>번호</th>\n",
       "    </tr>\n",
       "  </thead>\n",
       "  <tbody>\n",
       "    <tr>\n",
       "      <th>A</th>\n",
       "      <td>2017-08-29</td>\n",
       "      <td>1</td>\n",
       "    </tr>\n",
       "    <tr>\n",
       "      <th>B</th>\n",
       "      <td>2017-08-30</td>\n",
       "      <td>2</td>\n",
       "    </tr>\n",
       "    <tr>\n",
       "      <th>C</th>\n",
       "      <td>2017-08-31</td>\n",
       "      <td>3</td>\n",
       "    </tr>\n",
       "  </tbody>\n",
       "</table>\n",
       "</div>"
      ],
      "text/plain": [
       "          날짜  번호\n",
       "A 2017-08-29   1\n",
       "B 2017-08-30   2\n",
       "C 2017-08-31   3"
      ]
     },
     "execution_count": 35,
     "metadata": {},
     "output_type": "execute_result"
    }
   ],
   "source": [
    "df.loc['A':'C']"
   ]
  },
  {
   "cell_type": "code",
   "execution_count": 36,
   "metadata": {
    "collapsed": false
   },
   "outputs": [
    {
     "data": {
      "text/plain": [
       "Timestamp('2017-08-29 00:00:00')"
      ]
     },
     "execution_count": 36,
     "metadata": {},
     "output_type": "execute_result"
    }
   ],
   "source": [
    "df.loc['A', '날짜']"
   ]
  },
  {
   "cell_type": "code",
   "execution_count": 37,
   "metadata": {
    "collapsed": false
   },
   "outputs": [
    {
     "data": {
      "text/plain": [
       "Timestamp('2017-08-29 00:00:00')"
      ]
     },
     "execution_count": 37,
     "metadata": {},
     "output_type": "execute_result"
    }
   ],
   "source": [
    "df.at['A', '날짜']  # 하나의 값에 접근할 때는 .at이 더 빠름"
   ]
  },
  {
   "cell_type": "code",
   "execution_count": 55,
   "metadata": {
    "collapsed": false
   },
   "outputs": [
    {
     "name": "stdout",
     "output_type": "stream",
     "text": [
      "The slowest run took 11.27 times longer than the fastest. This could mean that an intermediate result is being cached.\n",
      "10000 loops, best of 3: 33.6 µs per loop\n"
     ]
    }
   ],
   "source": [
    "%%timeit\n",
    "df.at['A', '날짜'] "
   ]
  },
  {
   "cell_type": "code",
   "execution_count": 56,
   "metadata": {
    "collapsed": false
   },
   "outputs": [
    {
     "name": "stdout",
     "output_type": "stream",
     "text": [
      "10000 loops, best of 3: 59.2 µs per loop\n"
     ]
    }
   ],
   "source": [
    "%%timeit\n",
    "df.loc['A', '날짜']"
   ]
  },
  {
   "cell_type": "code",
   "execution_count": 40,
   "metadata": {
    "collapsed": false
   },
   "outputs": [
    {
     "data": {
      "text/plain": [
       "날짜    2017-08-29 00:00:00\n",
       "번호                      1\n",
       "Name: A, dtype: object"
      ]
     },
     "execution_count": 40,
     "metadata": {},
     "output_type": "execute_result"
    }
   ],
   "source": [
    "df.iloc[0]"
   ]
  },
  {
   "cell_type": "code",
   "execution_count": 41,
   "metadata": {
    "collapsed": false
   },
   "outputs": [
    {
     "data": {
      "text/plain": [
       "Timestamp('2017-08-29 00:00:00')"
      ]
     },
     "execution_count": 41,
     "metadata": {},
     "output_type": "execute_result"
    }
   ],
   "source": [
    "df.iloc[0,0]"
   ]
  },
  {
   "cell_type": "code",
   "execution_count": 42,
   "metadata": {
    "collapsed": false
   },
   "outputs": [
    {
     "data": {
      "text/plain": [
       "Timestamp('2017-08-29 00:00:00')"
      ]
     },
     "execution_count": 42,
     "metadata": {},
     "output_type": "execute_result"
    }
   ],
   "source": [
    "df.iat[0,0]"
   ]
  },
  {
   "cell_type": "markdown",
   "metadata": {},
   "source": [
    "## 가장 큰/작은 값의 위치 "
   ]
  },
  {
   "cell_type": "code",
   "execution_count": 43,
   "metadata": {
    "collapsed": false
   },
   "outputs": [
    {
     "data": {
      "text/plain": [
       "'A'"
      ]
     },
     "execution_count": 43,
     "metadata": {},
     "output_type": "execute_result"
    }
   ],
   "source": [
    "df['번호'].idxmin()"
   ]
  },
  {
   "cell_type": "code",
   "execution_count": 44,
   "metadata": {
    "collapsed": false
   },
   "outputs": [
    {
     "data": {
      "text/plain": [
       "'E'"
      ]
     },
     "execution_count": 44,
     "metadata": {},
     "output_type": "execute_result"
    }
   ],
   "source": [
    "df['번호'].idxmax()"
   ]
  },
  {
   "cell_type": "markdown",
   "metadata": {},
   "source": [
    "### Boolean Indexing"
   ]
  },
  {
   "cell_type": "code",
   "execution_count": 45,
   "metadata": {
    "collapsed": false
   },
   "outputs": [
    {
     "data": {
      "text/html": [
       "<div>\n",
       "<style>\n",
       "    .dataframe thead tr:only-child th {\n",
       "        text-align: right;\n",
       "    }\n",
       "\n",
       "    .dataframe thead th {\n",
       "        text-align: left;\n",
       "    }\n",
       "\n",
       "    .dataframe tbody tr th {\n",
       "        vertical-align: top;\n",
       "    }\n",
       "</style>\n",
       "<table border=\"1\" class=\"dataframe\">\n",
       "  <thead>\n",
       "    <tr style=\"text-align: right;\">\n",
       "      <th></th>\n",
       "      <th>날짜</th>\n",
       "      <th>번호</th>\n",
       "    </tr>\n",
       "  </thead>\n",
       "  <tbody>\n",
       "    <tr>\n",
       "      <th>D</th>\n",
       "      <td>2017-09-01</td>\n",
       "      <td>4</td>\n",
       "    </tr>\n",
       "    <tr>\n",
       "      <th>E</th>\n",
       "      <td>2017-09-02</td>\n",
       "      <td>5</td>\n",
       "    </tr>\n",
       "  </tbody>\n",
       "</table>\n",
       "</div>"
      ],
      "text/plain": [
       "          날짜  번호\n",
       "D 2017-09-01   4\n",
       "E 2017-09-02   5"
      ]
     },
     "execution_count": 45,
     "metadata": {},
     "output_type": "execute_result"
    }
   ],
   "source": [
    "df[df['날짜'] > pd.Timestamp('2017-08-31')]"
   ]
  },
  {
   "cell_type": "markdown",
   "metadata": {},
   "source": [
    "#### OR "
   ]
  },
  {
   "cell_type": "markdown",
   "metadata": {},
   "source": [
    "OR는 |로 나타냄\n"
   ]
  },
  {
   "cell_type": "markdown",
   "metadata": {},
   "source": [
    "Python에서 |는 부등호보다 먼저 계산되기 때문에 괄호를 해줌"
   ]
  },
  {
   "cell_type": "markdown",
   "metadata": {},
   "source": [
    "(df['날짜'] < pd.Timestamp('2017-09-02')) | (df['번호'] < 4)"
   ]
  },
  {
   "cell_type": "markdown",
   "metadata": {},
   "source": [
    "#### AND"
   ]
  },
  {
   "cell_type": "markdown",
   "metadata": {},
   "source": [
    "AND는 &로 나타냄"
   ]
  },
  {
   "cell_type": "markdown",
   "metadata": {},
   "source": [
    "역시 괄호가 필요"
   ]
  },
  {
   "cell_type": "code",
   "execution_count": 48,
   "metadata": {
    "collapsed": false
   },
   "outputs": [
    {
     "data": {
      "text/plain": [
       "A     True\n",
       "B     True\n",
       "C     True\n",
       "D    False\n",
       "E    False\n",
       "dtype: bool"
      ]
     },
     "execution_count": 48,
     "metadata": {},
     "output_type": "execute_result"
    }
   ],
   "source": [
    "(df['날짜'] < pd.Timestamp('2017-09-02')) & (df['번호'] < 4)"
   ]
  },
  {
   "cell_type": "markdown",
   "metadata": {},
   "source": [
    "#### NOT"
   ]
  },
  {
   "cell_type": "markdown",
   "metadata": {},
   "source": [
    "NOT은 ~로 나타냄"
   ]
  },
  {
   "cell_type": "code",
   "execution_count": 49,
   "metadata": {
    "collapsed": false
   },
   "outputs": [
    {
     "data": {
      "text/plain": [
       "A    False\n",
       "B    False\n",
       "C    False\n",
       "D    False\n",
       "E     True\n",
       "Name: 날짜, dtype: bool"
      ]
     },
     "execution_count": 49,
     "metadata": {},
     "output_type": "execute_result"
    }
   ],
   "source": [
    "~(df['날짜'] < pd.Timestamp('2017-09-02'))"
   ]
  },
  {
   "cell_type": "markdown",
   "metadata": {},
   "source": [
    "#### 포함관계 "
   ]
  },
  {
   "cell_type": "code",
   "execution_count": 50,
   "metadata": {
    "collapsed": false
   },
   "outputs": [
    {
     "data": {
      "text/plain": [
       "A     True\n",
       "B    False\n",
       "C     True\n",
       "D    False\n",
       "E     True\n",
       "Name: 번호, dtype: bool"
      ]
     },
     "execution_count": 50,
     "metadata": {},
     "output_type": "execute_result"
    }
   ],
   "source": [
    "df['번호'].isin([1, 3, 5])"
   ]
  },
  {
   "cell_type": "markdown",
   "metadata": {},
   "source": [
    "## 데이터 프레임 복사"
   ]
  },
  {
   "cell_type": "code",
   "execution_count": 51,
   "metadata": {
    "collapsed": true
   },
   "outputs": [],
   "source": [
    "df2 = df.copy()"
   ]
  },
  {
   "cell_type": "markdown",
   "metadata": {},
   "source": [
    "## 데이터 추가 "
   ]
  },
  {
   "cell_type": "code",
   "execution_count": 52,
   "metadata": {
    "collapsed": true
   },
   "outputs": [],
   "source": [
    "df['고객'] = [300, 240, 150, 400, 340]"
   ]
  },
  {
   "cell_type": "code",
   "execution_count": 53,
   "metadata": {
    "collapsed": false
   },
   "outputs": [
    {
     "data": {
      "text/html": [
       "<div>\n",
       "<style>\n",
       "    .dataframe thead tr:only-child th {\n",
       "        text-align: right;\n",
       "    }\n",
       "\n",
       "    .dataframe thead th {\n",
       "        text-align: left;\n",
       "    }\n",
       "\n",
       "    .dataframe tbody tr th {\n",
       "        vertical-align: top;\n",
       "    }\n",
       "</style>\n",
       "<table border=\"1\" class=\"dataframe\">\n",
       "  <thead>\n",
       "    <tr style=\"text-align: right;\">\n",
       "      <th></th>\n",
       "      <th>날짜</th>\n",
       "      <th>번호</th>\n",
       "      <th>고객</th>\n",
       "    </tr>\n",
       "  </thead>\n",
       "  <tbody>\n",
       "    <tr>\n",
       "      <th>A</th>\n",
       "      <td>2017-08-29</td>\n",
       "      <td>1</td>\n",
       "      <td>300</td>\n",
       "    </tr>\n",
       "    <tr>\n",
       "      <th>B</th>\n",
       "      <td>2017-08-30</td>\n",
       "      <td>2</td>\n",
       "      <td>240</td>\n",
       "    </tr>\n",
       "    <tr>\n",
       "      <th>C</th>\n",
       "      <td>2017-08-31</td>\n",
       "      <td>3</td>\n",
       "      <td>150</td>\n",
       "    </tr>\n",
       "    <tr>\n",
       "      <th>D</th>\n",
       "      <td>2017-09-01</td>\n",
       "      <td>4</td>\n",
       "      <td>400</td>\n",
       "    </tr>\n",
       "    <tr>\n",
       "      <th>E</th>\n",
       "      <td>2017-09-02</td>\n",
       "      <td>5</td>\n",
       "      <td>340</td>\n",
       "    </tr>\n",
       "  </tbody>\n",
       "</table>\n",
       "</div>"
      ],
      "text/plain": [
       "          날짜  번호   고객\n",
       "A 2017-08-29   1  300\n",
       "B 2017-08-30   2  240\n",
       "C 2017-08-31   3  150\n",
       "D 2017-09-01   4  400\n",
       "E 2017-09-02   5  340"
      ]
     },
     "execution_count": 53,
     "metadata": {},
     "output_type": "execute_result"
    }
   ],
   "source": [
    "df"
   ]
  },
  {
   "cell_type": "markdown",
   "metadata": {},
   "source": [
    "## 데이터 변경"
   ]
  },
  {
   "cell_type": "code",
   "execution_count": 54,
   "metadata": {
    "collapsed": true
   },
   "outputs": [],
   "source": [
    "df.iat[2, 2] = 10"
   ]
  },
  {
   "cell_type": "code",
   "execution_count": 55,
   "metadata": {
    "collapsed": false
   },
   "outputs": [
    {
     "data": {
      "text/html": [
       "<div>\n",
       "<style>\n",
       "    .dataframe thead tr:only-child th {\n",
       "        text-align: right;\n",
       "    }\n",
       "\n",
       "    .dataframe thead th {\n",
       "        text-align: left;\n",
       "    }\n",
       "\n",
       "    .dataframe tbody tr th {\n",
       "        vertical-align: top;\n",
       "    }\n",
       "</style>\n",
       "<table border=\"1\" class=\"dataframe\">\n",
       "  <thead>\n",
       "    <tr style=\"text-align: right;\">\n",
       "      <th></th>\n",
       "      <th>날짜</th>\n",
       "      <th>번호</th>\n",
       "      <th>고객</th>\n",
       "    </tr>\n",
       "  </thead>\n",
       "  <tbody>\n",
       "    <tr>\n",
       "      <th>A</th>\n",
       "      <td>2017-08-29</td>\n",
       "      <td>1</td>\n",
       "      <td>300</td>\n",
       "    </tr>\n",
       "    <tr>\n",
       "      <th>B</th>\n",
       "      <td>2017-08-30</td>\n",
       "      <td>2</td>\n",
       "      <td>240</td>\n",
       "    </tr>\n",
       "    <tr>\n",
       "      <th>C</th>\n",
       "      <td>2017-08-31</td>\n",
       "      <td>3</td>\n",
       "      <td>10</td>\n",
       "    </tr>\n",
       "    <tr>\n",
       "      <th>D</th>\n",
       "      <td>2017-09-01</td>\n",
       "      <td>4</td>\n",
       "      <td>400</td>\n",
       "    </tr>\n",
       "    <tr>\n",
       "      <th>E</th>\n",
       "      <td>2017-09-02</td>\n",
       "      <td>5</td>\n",
       "      <td>340</td>\n",
       "    </tr>\n",
       "  </tbody>\n",
       "</table>\n",
       "</div>"
      ],
      "text/plain": [
       "          날짜  번호   고객\n",
       "A 2017-08-29   1  300\n",
       "B 2017-08-30   2  240\n",
       "C 2017-08-31   3   10\n",
       "D 2017-09-01   4  400\n",
       "E 2017-09-02   5  340"
      ]
     },
     "execution_count": 55,
     "metadata": {},
     "output_type": "execute_result"
    }
   ],
   "source": [
    "df"
   ]
  },
  {
   "cell_type": "code",
   "execution_count": 56,
   "metadata": {
    "collapsed": true
   },
   "outputs": [],
   "source": [
    "df2.loc[df['번호'] > 2, '고객'] = 0"
   ]
  },
  {
   "cell_type": "code",
   "execution_count": 57,
   "metadata": {
    "collapsed": false
   },
   "outputs": [
    {
     "data": {
      "text/html": [
       "<div>\n",
       "<style>\n",
       "    .dataframe thead tr:only-child th {\n",
       "        text-align: right;\n",
       "    }\n",
       "\n",
       "    .dataframe thead th {\n",
       "        text-align: left;\n",
       "    }\n",
       "\n",
       "    .dataframe tbody tr th {\n",
       "        vertical-align: top;\n",
       "    }\n",
       "</style>\n",
       "<table border=\"1\" class=\"dataframe\">\n",
       "  <thead>\n",
       "    <tr style=\"text-align: right;\">\n",
       "      <th></th>\n",
       "      <th>날짜</th>\n",
       "      <th>번호</th>\n",
       "      <th>고객</th>\n",
       "    </tr>\n",
       "  </thead>\n",
       "  <tbody>\n",
       "    <tr>\n",
       "      <th>A</th>\n",
       "      <td>2017-08-29</td>\n",
       "      <td>1</td>\n",
       "      <td>NaN</td>\n",
       "    </tr>\n",
       "    <tr>\n",
       "      <th>B</th>\n",
       "      <td>2017-08-30</td>\n",
       "      <td>2</td>\n",
       "      <td>NaN</td>\n",
       "    </tr>\n",
       "    <tr>\n",
       "      <th>C</th>\n",
       "      <td>2017-08-31</td>\n",
       "      <td>3</td>\n",
       "      <td>0.0</td>\n",
       "    </tr>\n",
       "    <tr>\n",
       "      <th>D</th>\n",
       "      <td>2017-09-01</td>\n",
       "      <td>4</td>\n",
       "      <td>0.0</td>\n",
       "    </tr>\n",
       "    <tr>\n",
       "      <th>E</th>\n",
       "      <td>2017-09-02</td>\n",
       "      <td>5</td>\n",
       "      <td>0.0</td>\n",
       "    </tr>\n",
       "  </tbody>\n",
       "</table>\n",
       "</div>"
      ],
      "text/plain": [
       "          날짜  번호   고객\n",
       "A 2017-08-29   1  NaN\n",
       "B 2017-08-30   2  NaN\n",
       "C 2017-08-31   3  0.0\n",
       "D 2017-09-01   4  0.0\n",
       "E 2017-09-02   5  0.0"
      ]
     },
     "execution_count": 57,
     "metadata": {},
     "output_type": "execute_result"
    }
   ],
   "source": [
    "df2"
   ]
  },
  {
   "cell_type": "code",
   "execution_count": 58,
   "metadata": {
    "collapsed": true
   },
   "outputs": [],
   "source": [
    "df2.loc[df['번호'] < 4, ['고객', '번호']] = -1"
   ]
  },
  {
   "cell_type": "code",
   "execution_count": 59,
   "metadata": {
    "collapsed": false
   },
   "outputs": [
    {
     "data": {
      "text/html": [
       "<div>\n",
       "<style>\n",
       "    .dataframe thead tr:only-child th {\n",
       "        text-align: right;\n",
       "    }\n",
       "\n",
       "    .dataframe thead th {\n",
       "        text-align: left;\n",
       "    }\n",
       "\n",
       "    .dataframe tbody tr th {\n",
       "        vertical-align: top;\n",
       "    }\n",
       "</style>\n",
       "<table border=\"1\" class=\"dataframe\">\n",
       "  <thead>\n",
       "    <tr style=\"text-align: right;\">\n",
       "      <th></th>\n",
       "      <th>날짜</th>\n",
       "      <th>번호</th>\n",
       "      <th>고객</th>\n",
       "    </tr>\n",
       "  </thead>\n",
       "  <tbody>\n",
       "    <tr>\n",
       "      <th>A</th>\n",
       "      <td>2017-08-29</td>\n",
       "      <td>-1</td>\n",
       "      <td>-1.0</td>\n",
       "    </tr>\n",
       "    <tr>\n",
       "      <th>B</th>\n",
       "      <td>2017-08-30</td>\n",
       "      <td>-1</td>\n",
       "      <td>-1.0</td>\n",
       "    </tr>\n",
       "    <tr>\n",
       "      <th>C</th>\n",
       "      <td>2017-08-31</td>\n",
       "      <td>-1</td>\n",
       "      <td>-1.0</td>\n",
       "    </tr>\n",
       "    <tr>\n",
       "      <th>D</th>\n",
       "      <td>2017-09-01</td>\n",
       "      <td>4</td>\n",
       "      <td>0.0</td>\n",
       "    </tr>\n",
       "    <tr>\n",
       "      <th>E</th>\n",
       "      <td>2017-09-02</td>\n",
       "      <td>5</td>\n",
       "      <td>0.0</td>\n",
       "    </tr>\n",
       "  </tbody>\n",
       "</table>\n",
       "</div>"
      ],
      "text/plain": [
       "          날짜  번호   고객\n",
       "A 2017-08-29  -1 -1.0\n",
       "B 2017-08-30  -1 -1.0\n",
       "C 2017-08-31  -1 -1.0\n",
       "D 2017-09-01   4  0.0\n",
       "E 2017-09-02   5  0.0"
      ]
     },
     "execution_count": 59,
     "metadata": {},
     "output_type": "execute_result"
    }
   ],
   "source": [
    "df2"
   ]
  },
  {
   "cell_type": "markdown",
   "metadata": {},
   "source": [
    "## 조건에 따라 다른 값 매기기 "
   ]
  },
  {
   "cell_type": "code",
   "execution_count": 60,
   "metadata": {
    "collapsed": true
   },
   "outputs": [],
   "source": [
    "import numpy as np"
   ]
  },
  {
   "cell_type": "code",
   "execution_count": 61,
   "metadata": {
    "collapsed": false
   },
   "outputs": [
    {
     "data": {
      "text/plain": [
       "array(['과거', '과거', '과거', '미래', '미래'],\n",
       "      dtype='<U2')"
      ]
     },
     "execution_count": 61,
     "metadata": {},
     "output_type": "execute_result"
    }
   ],
   "source": [
    "np.where(df['날짜'] > pd.Timestamp('2017-08-31'), '미래', '과거')"
   ]
  },
  {
   "cell_type": "markdown",
   "metadata": {},
   "source": [
    "## csv 파일 읽기 "
   ]
  },
  {
   "cell_type": "code",
   "execution_count": 63,
   "metadata": {
    "collapsed": false
   },
   "outputs": [],
   "source": [
    "air = pd.read_csv('C:/Users/STANDARD/Desktop/Python_U/data/product_airtime.csv')"
   ]
  },
  {
   "cell_type": "code",
   "execution_count": 64,
   "metadata": {
    "collapsed": false
   },
   "outputs": [
    {
     "data": {
      "text/html": [
       "<div>\n",
       "<style>\n",
       "    .dataframe thead tr:only-child th {\n",
       "        text-align: right;\n",
       "    }\n",
       "\n",
       "    .dataframe thead th {\n",
       "        text-align: left;\n",
       "    }\n",
       "\n",
       "    .dataframe tbody tr th {\n",
       "        vertical-align: top;\n",
       "    }\n",
       "</style>\n",
       "<table border=\"1\" class=\"dataframe\">\n",
       "  <thead>\n",
       "    <tr style=\"text-align: right;\">\n",
       "      <th></th>\n",
       "      <th>PRODUCT_NBR</th>\n",
       "      <th>ONAIR_DATE</th>\n",
       "      <th>ONAIR_START_TMS</th>\n",
       "      <th>ONAIR_END_TMS</th>\n",
       "      <th>ONAIR_MINS</th>\n",
       "      <th>HOST1</th>\n",
       "      <th>HOST2</th>\n",
       "    </tr>\n",
       "  </thead>\n",
       "  <tbody>\n",
       "    <tr>\n",
       "      <th>0</th>\n",
       "      <td>P150028635</td>\n",
       "      <td>2015-01-02</td>\n",
       "      <td>2015-01-02 01:33:02</td>\n",
       "      <td>2015-01-02 01:58:20</td>\n",
       "      <td>25.32</td>\n",
       "      <td>NaN</td>\n",
       "      <td>NaN</td>\n",
       "    </tr>\n",
       "    <tr>\n",
       "      <th>1</th>\n",
       "      <td>P150028635</td>\n",
       "      <td>2015-01-02</td>\n",
       "      <td>2015-01-02 01:21:14</td>\n",
       "      <td>2015-01-02 01:32:48</td>\n",
       "      <td>11.58</td>\n",
       "      <td>NaN</td>\n",
       "      <td>NaN</td>\n",
       "    </tr>\n",
       "    <tr>\n",
       "      <th>2</th>\n",
       "      <td>P150028635</td>\n",
       "      <td>2015-01-01</td>\n",
       "      <td>2015-01-01 22:34:30</td>\n",
       "      <td>2015-01-01 22:58:17</td>\n",
       "      <td>23.80</td>\n",
       "      <td>NaN</td>\n",
       "      <td>NaN</td>\n",
       "    </tr>\n",
       "    <tr>\n",
       "      <th>3</th>\n",
       "      <td>P150028635</td>\n",
       "      <td>2015-01-01</td>\n",
       "      <td>2015-01-01 22:00:05</td>\n",
       "      <td>2015-01-01 22:33:02</td>\n",
       "      <td>32.97</td>\n",
       "      <td>NaN</td>\n",
       "      <td>NaN</td>\n",
       "    </tr>\n",
       "    <tr>\n",
       "      <th>4</th>\n",
       "      <td>P150028635</td>\n",
       "      <td>2015-01-01</td>\n",
       "      <td>2015-01-01 19:00:00</td>\n",
       "      <td>2015-01-01 19:00:01</td>\n",
       "      <td>0.03</td>\n",
       "      <td>NaN</td>\n",
       "      <td>NaN</td>\n",
       "    </tr>\n",
       "  </tbody>\n",
       "</table>\n",
       "</div>"
      ],
      "text/plain": [
       "  PRODUCT_NBR  ONAIR_DATE      ONAIR_START_TMS        ONAIR_END_TMS  \\\n",
       "0  P150028635  2015-01-02  2015-01-02 01:33:02  2015-01-02 01:58:20   \n",
       "1  P150028635  2015-01-02  2015-01-02 01:21:14  2015-01-02 01:32:48   \n",
       "2  P150028635  2015-01-01  2015-01-01 22:34:30  2015-01-01 22:58:17   \n",
       "3  P150028635  2015-01-01  2015-01-01 22:00:05  2015-01-01 22:33:02   \n",
       "4  P150028635  2015-01-01  2015-01-01 19:00:00  2015-01-01 19:00:01   \n",
       "\n",
       "   ONAIR_MINS HOST1 HOST2  \n",
       "0       25.32   NaN   NaN  \n",
       "1       11.58   NaN   NaN  \n",
       "2       23.80   NaN   NaN  \n",
       "3       32.97   NaN   NaN  \n",
       "4        0.03   NaN   NaN  "
      ]
     },
     "execution_count": 64,
     "metadata": {},
     "output_type": "execute_result"
    }
   ],
   "source": [
    "air.head()"
   ]
  },
  {
   "cell_type": "markdown",
   "metadata": {},
   "source": [
    "## 실습"
   ]
  },
  {
   "cell_type": "markdown",
   "metadata": {},
   "source": [
    "product_airtime.csv를 엑셀(.xlsx)로 변환한 다음 열어봅시다"
   ]
  },
  {
   "cell_type": "markdown",
   "metadata": {},
   "source": [
    "product_airtime.csv를 탭으로 구분한 형식(.tsv)로 변환한 다음 열어봅시다"
   ]
  },
  {
   "cell_type": "code",
   "execution_count": 65,
   "metadata": {
    "collapsed": false
   },
   "outputs": [
    {
     "data": {
      "text/plain": [
       "(63468, 7)"
      ]
     },
     "execution_count": 65,
     "metadata": {},
     "output_type": "execute_result"
    }
   ],
   "source": [
    "air.shape"
   ]
  },
  {
   "cell_type": "markdown",
   "metadata": {},
   "source": [
    "## 컬럼 통계"
   ]
  },
  {
   "cell_type": "code",
   "execution_count": 66,
   "metadata": {
    "collapsed": false
   },
   "outputs": [
    {
     "data": {
      "text/plain": [
       "240808.89999999999"
      ]
     },
     "execution_count": 66,
     "metadata": {},
     "output_type": "execute_result"
    }
   ],
   "source": [
    "air['ONAIR_MINS'].sum()"
   ]
  },
  {
   "cell_type": "code",
   "execution_count": 67,
   "metadata": {
    "collapsed": false
   },
   "outputs": [
    {
     "data": {
      "text/plain": [
       "3.7941781685258711"
      ]
     },
     "execution_count": 67,
     "metadata": {},
     "output_type": "execute_result"
    }
   ],
   "source": [
    "air['ONAIR_MINS'].mean()"
   ]
  },
  {
   "cell_type": "code",
   "execution_count": 68,
   "metadata": {
    "collapsed": false
   },
   "outputs": [
    {
     "data": {
      "text/plain": [
       "5.1647709418247665"
      ]
     },
     "execution_count": 68,
     "metadata": {},
     "output_type": "execute_result"
    }
   ],
   "source": [
    "air['ONAIR_MINS'].std()"
   ]
  },
  {
   "cell_type": "code",
   "execution_count": 69,
   "metadata": {
    "collapsed": false
   },
   "outputs": [
    {
     "data": {
      "text/plain": [
       "0.02"
      ]
     },
     "execution_count": 69,
     "metadata": {},
     "output_type": "execute_result"
    }
   ],
   "source": [
    "air['ONAIR_MINS'].min()"
   ]
  },
  {
   "cell_type": "code",
   "execution_count": 70,
   "metadata": {
    "collapsed": false
   },
   "outputs": [
    {
     "data": {
      "text/plain": [
       "59.5"
      ]
     },
     "execution_count": 70,
     "metadata": {},
     "output_type": "execute_result"
    }
   ],
   "source": [
    "air['ONAIR_MINS'].max()"
   ]
  },
  {
   "cell_type": "markdown",
   "metadata": {},
   "source": [
    "## 필터링 "
   ]
  },
  {
   "cell_type": "code",
   "execution_count": 71,
   "metadata": {
    "collapsed": false
   },
   "outputs": [
    {
     "data": {
      "text/html": [
       "<div>\n",
       "<style>\n",
       "    .dataframe thead tr:only-child th {\n",
       "        text-align: right;\n",
       "    }\n",
       "\n",
       "    .dataframe thead th {\n",
       "        text-align: left;\n",
       "    }\n",
       "\n",
       "    .dataframe tbody tr th {\n",
       "        vertical-align: top;\n",
       "    }\n",
       "</style>\n",
       "<table border=\"1\" class=\"dataframe\">\n",
       "  <thead>\n",
       "    <tr style=\"text-align: right;\">\n",
       "      <th></th>\n",
       "      <th>PRODUCT_NBR</th>\n",
       "      <th>ONAIR_DATE</th>\n",
       "      <th>ONAIR_START_TMS</th>\n",
       "      <th>ONAIR_END_TMS</th>\n",
       "      <th>ONAIR_MINS</th>\n",
       "      <th>HOST1</th>\n",
       "      <th>HOST2</th>\n",
       "    </tr>\n",
       "  </thead>\n",
       "  <tbody>\n",
       "    <tr>\n",
       "      <th>1039</th>\n",
       "      <td>P150028603</td>\n",
       "      <td>2015-01-01</td>\n",
       "      <td>2015-01-01 08:01:29</td>\n",
       "      <td>2015-01-01 08:57:35</td>\n",
       "      <td>56.12</td>\n",
       "      <td>NaN</td>\n",
       "      <td>NaN</td>\n",
       "    </tr>\n",
       "    <tr>\n",
       "      <th>3532</th>\n",
       "      <td>P150028674</td>\n",
       "      <td>2015-02-15</td>\n",
       "      <td>2015-02-15 12:00:00</td>\n",
       "      <td>2015-02-15 12:58:04</td>\n",
       "      <td>58.08</td>\n",
       "      <td>NaN</td>\n",
       "      <td>NaN</td>\n",
       "    </tr>\n",
       "    <tr>\n",
       "      <th>6742</th>\n",
       "      <td>P150062392</td>\n",
       "      <td>2015-01-05</td>\n",
       "      <td>2015-01-05 00:01:21</td>\n",
       "      <td>2015-01-05 00:58:48</td>\n",
       "      <td>57.47</td>\n",
       "      <td>NaN</td>\n",
       "      <td>NaN</td>\n",
       "    </tr>\n",
       "    <tr>\n",
       "      <th>6743</th>\n",
       "      <td>P150062392</td>\n",
       "      <td>2015-01-04</td>\n",
       "      <td>2015-01-04 22:00:42</td>\n",
       "      <td>2015-01-04 22:58:56</td>\n",
       "      <td>58.25</td>\n",
       "      <td>NaN</td>\n",
       "      <td>NaN</td>\n",
       "    </tr>\n",
       "    <tr>\n",
       "      <th>6745</th>\n",
       "      <td>P150062392</td>\n",
       "      <td>2015-01-04</td>\n",
       "      <td>2015-01-04 20:00:47</td>\n",
       "      <td>2015-01-04 20:59:59</td>\n",
       "      <td>59.22</td>\n",
       "      <td>NaN</td>\n",
       "      <td>NaN</td>\n",
       "    </tr>\n",
       "    <tr>\n",
       "      <th>6755</th>\n",
       "      <td>P150062392</td>\n",
       "      <td>2015-01-04</td>\n",
       "      <td>2015-01-04 12:00:43</td>\n",
       "      <td>2015-01-04 12:58:42</td>\n",
       "      <td>58.00</td>\n",
       "      <td>NaN</td>\n",
       "      <td>NaN</td>\n",
       "    </tr>\n",
       "    <tr>\n",
       "      <th>6764</th>\n",
       "      <td>P150062392</td>\n",
       "      <td>2015-01-04</td>\n",
       "      <td>2015-01-04 21:01:20</td>\n",
       "      <td>2015-01-04 21:58:49</td>\n",
       "      <td>57.50</td>\n",
       "      <td>Wheeler Dan</td>\n",
       "      <td>NaN</td>\n",
       "    </tr>\n",
       "    <tr>\n",
       "      <th>6766</th>\n",
       "      <td>P150062392</td>\n",
       "      <td>2015-01-04</td>\n",
       "      <td>2015-01-04 18:02:04</td>\n",
       "      <td>2015-01-04 18:59:59</td>\n",
       "      <td>57.93</td>\n",
       "      <td>Bauer Jill</td>\n",
       "      <td>NaN</td>\n",
       "    </tr>\n",
       "    <tr>\n",
       "      <th>6767</th>\n",
       "      <td>P150062392</td>\n",
       "      <td>2015-01-04</td>\n",
       "      <td>2015-01-04 16:00:03</td>\n",
       "      <td>2015-01-04 16:59:32</td>\n",
       "      <td>59.50</td>\n",
       "      <td>Bauer Jill</td>\n",
       "      <td>NaN</td>\n",
       "    </tr>\n",
       "    <tr>\n",
       "      <th>6775</th>\n",
       "      <td>P150062392</td>\n",
       "      <td>2015-01-04</td>\n",
       "      <td>2015-01-04 09:00:43</td>\n",
       "      <td>2015-01-04 09:58:42</td>\n",
       "      <td>58.00</td>\n",
       "      <td>Hughes Dan</td>\n",
       "      <td>NaN</td>\n",
       "    </tr>\n",
       "    <tr>\n",
       "      <th>9458</th>\n",
       "      <td>P150033993</td>\n",
       "      <td>2015-01-10</td>\n",
       "      <td>2015-01-10 14:00:00</td>\n",
       "      <td>2015-01-10 14:59:06</td>\n",
       "      <td>59.12</td>\n",
       "      <td>Bauer Jill</td>\n",
       "      <td>NaN</td>\n",
       "    </tr>\n",
       "    <tr>\n",
       "      <th>11151</th>\n",
       "      <td>P150062049</td>\n",
       "      <td>2015-03-14</td>\n",
       "      <td>2015-03-14 05:01:25</td>\n",
       "      <td>2015-03-14 05:59:40</td>\n",
       "      <td>58.27</td>\n",
       "      <td>NaN</td>\n",
       "      <td>NaN</td>\n",
       "    </tr>\n",
       "    <tr>\n",
       "      <th>11152</th>\n",
       "      <td>P150062049</td>\n",
       "      <td>2015-03-12</td>\n",
       "      <td>2015-03-12 18:00:15</td>\n",
       "      <td>2015-03-12 18:58:30</td>\n",
       "      <td>58.27</td>\n",
       "      <td>NaN</td>\n",
       "      <td>NaN</td>\n",
       "    </tr>\n",
       "    <tr>\n",
       "      <th>11658</th>\n",
       "      <td>P150028449</td>\n",
       "      <td>2015-01-11</td>\n",
       "      <td>2015-01-11 11:02:34</td>\n",
       "      <td>2015-01-11 11:59:59</td>\n",
       "      <td>57.43</td>\n",
       "      <td>NaN</td>\n",
       "      <td>NaN</td>\n",
       "    </tr>\n",
       "    <tr>\n",
       "      <th>11661</th>\n",
       "      <td>P150028449</td>\n",
       "      <td>2015-01-11</td>\n",
       "      <td>2015-01-11 02:00:00</td>\n",
       "      <td>2015-01-11 02:58:16</td>\n",
       "      <td>58.28</td>\n",
       "      <td>NaN</td>\n",
       "      <td>NaN</td>\n",
       "    </tr>\n",
       "    <tr>\n",
       "      <th>11666</th>\n",
       "      <td>P150028449</td>\n",
       "      <td>2015-01-10</td>\n",
       "      <td>2015-01-10 22:00:57</td>\n",
       "      <td>2015-01-10 22:59:31</td>\n",
       "      <td>58.58</td>\n",
       "      <td>Killinger Shawn</td>\n",
       "      <td>NaN</td>\n",
       "    </tr>\n",
       "    <tr>\n",
       "      <th>11738</th>\n",
       "      <td>P150025508</td>\n",
       "      <td>2015-01-11</td>\n",
       "      <td>2015-01-11 18:02:12</td>\n",
       "      <td>2015-01-11 18:59:08</td>\n",
       "      <td>56.95</td>\n",
       "      <td>NaN</td>\n",
       "      <td>NaN</td>\n",
       "    </tr>\n",
       "    <tr>\n",
       "      <th>11858</th>\n",
       "      <td>P150028599</td>\n",
       "      <td>2015-03-15</td>\n",
       "      <td>2015-03-15 15:02:04</td>\n",
       "      <td>2015-03-15 15:59:42</td>\n",
       "      <td>57.65</td>\n",
       "      <td>NaN</td>\n",
       "      <td>NaN</td>\n",
       "    </tr>\n",
       "    <tr>\n",
       "      <th>11861</th>\n",
       "      <td>P150028599</td>\n",
       "      <td>2015-03-15</td>\n",
       "      <td>2015-03-15 10:02:05</td>\n",
       "      <td>2015-03-15 10:59:45</td>\n",
       "      <td>57.68</td>\n",
       "      <td>NaN</td>\n",
       "      <td>NaN</td>\n",
       "    </tr>\n",
       "    <tr>\n",
       "      <th>11867</th>\n",
       "      <td>P150028599</td>\n",
       "      <td>2015-03-15</td>\n",
       "      <td>2015-03-15 07:02:05</td>\n",
       "      <td>2015-03-15 07:59:45</td>\n",
       "      <td>57.68</td>\n",
       "      <td>Stauffer Stacey</td>\n",
       "      <td>NaN</td>\n",
       "    </tr>\n",
       "    <tr>\n",
       "      <th>13518</th>\n",
       "      <td>P150067222</td>\n",
       "      <td>2015-03-19</td>\n",
       "      <td>2015-03-19 20:00:49</td>\n",
       "      <td>2015-03-19 20:58:16</td>\n",
       "      <td>57.47</td>\n",
       "      <td>NaN</td>\n",
       "      <td>NaN</td>\n",
       "    </tr>\n",
       "    <tr>\n",
       "      <th>13585</th>\n",
       "      <td>P150067310</td>\n",
       "      <td>2015-03-03</td>\n",
       "      <td>2015-03-03 09:00:54</td>\n",
       "      <td>2015-03-03 09:58:33</td>\n",
       "      <td>57.67</td>\n",
       "      <td>NaN</td>\n",
       "      <td>NaN</td>\n",
       "    </tr>\n",
       "    <tr>\n",
       "      <th>13586</th>\n",
       "      <td>P150067310</td>\n",
       "      <td>2015-03-03</td>\n",
       "      <td>2015-03-03 06:00:54</td>\n",
       "      <td>2015-03-03 06:58:34</td>\n",
       "      <td>57.68</td>\n",
       "      <td>Hughes Dan</td>\n",
       "      <td>NaN</td>\n",
       "    </tr>\n",
       "    <tr>\n",
       "      <th>15026</th>\n",
       "      <td>P150062089</td>\n",
       "      <td>2015-03-15</td>\n",
       "      <td>2015-03-15 05:00:51</td>\n",
       "      <td>2015-03-15 05:59:12</td>\n",
       "      <td>58.37</td>\n",
       "      <td>NaN</td>\n",
       "      <td>NaN</td>\n",
       "    </tr>\n",
       "    <tr>\n",
       "      <th>15030</th>\n",
       "      <td>P150062089</td>\n",
       "      <td>2015-03-13</td>\n",
       "      <td>2015-03-13 16:00:33</td>\n",
       "      <td>2015-03-13 16:58:54</td>\n",
       "      <td>58.37</td>\n",
       "      <td>NaN</td>\n",
       "      <td>NaN</td>\n",
       "    </tr>\n",
       "    <tr>\n",
       "      <th>15031</th>\n",
       "      <td>P150062089</td>\n",
       "      <td>2015-03-13</td>\n",
       "      <td>2015-03-13 08:00:00</td>\n",
       "      <td>2015-03-13 08:57:42</td>\n",
       "      <td>57.72</td>\n",
       "      <td>NaN</td>\n",
       "      <td>NaN</td>\n",
       "    </tr>\n",
       "    <tr>\n",
       "      <th>15033</th>\n",
       "      <td>P150062089</td>\n",
       "      <td>2015-02-18</td>\n",
       "      <td>2015-02-18 14:00:00</td>\n",
       "      <td>2015-02-18 14:57:52</td>\n",
       "      <td>57.88</td>\n",
       "      <td>NaN</td>\n",
       "      <td>NaN</td>\n",
       "    </tr>\n",
       "    <tr>\n",
       "      <th>15036</th>\n",
       "      <td>P150062089</td>\n",
       "      <td>2015-02-23</td>\n",
       "      <td>2015-02-23 18:00:11</td>\n",
       "      <td>2015-02-23 18:58:31</td>\n",
       "      <td>58.35</td>\n",
       "      <td>NaN</td>\n",
       "      <td>NaN</td>\n",
       "    </tr>\n",
       "    <tr>\n",
       "      <th>15037</th>\n",
       "      <td>P150062089</td>\n",
       "      <td>2015-02-23</td>\n",
       "      <td>2015-02-23 00:02:16</td>\n",
       "      <td>2015-02-23 00:59:39</td>\n",
       "      <td>57.40</td>\n",
       "      <td>NaN</td>\n",
       "      <td>NaN</td>\n",
       "    </tr>\n",
       "    <tr>\n",
       "      <th>15050</th>\n",
       "      <td>P150062089</td>\n",
       "      <td>2015-02-20</td>\n",
       "      <td>2015-02-20 05:01:49</td>\n",
       "      <td>2015-02-20 05:59:59</td>\n",
       "      <td>58.18</td>\n",
       "      <td>NaN</td>\n",
       "      <td>NaN</td>\n",
       "    </tr>\n",
       "    <tr>\n",
       "      <th>...</th>\n",
       "      <td>...</td>\n",
       "      <td>...</td>\n",
       "      <td>...</td>\n",
       "      <td>...</td>\n",
       "      <td>...</td>\n",
       "      <td>...</td>\n",
       "      <td>...</td>\n",
       "    </tr>\n",
       "    <tr>\n",
       "      <th>38857</th>\n",
       "      <td>P150033891</td>\n",
       "      <td>2015-03-18</td>\n",
       "      <td>2015-03-18 21:00:22</td>\n",
       "      <td>2015-03-18 21:59:43</td>\n",
       "      <td>59.37</td>\n",
       "      <td>NaN</td>\n",
       "      <td>NaN</td>\n",
       "    </tr>\n",
       "    <tr>\n",
       "      <th>38859</th>\n",
       "      <td>P150033891</td>\n",
       "      <td>2015-03-16</td>\n",
       "      <td>2015-03-16 20:00:44</td>\n",
       "      <td>2015-03-16 20:59:59</td>\n",
       "      <td>59.27</td>\n",
       "      <td>NaN</td>\n",
       "      <td>NaN</td>\n",
       "    </tr>\n",
       "    <tr>\n",
       "      <th>38860</th>\n",
       "      <td>P150033891</td>\n",
       "      <td>2015-03-15</td>\n",
       "      <td>2015-03-15 09:00:37</td>\n",
       "      <td>2015-03-15 09:59:58</td>\n",
       "      <td>59.37</td>\n",
       "      <td>NaN</td>\n",
       "      <td>NaN</td>\n",
       "    </tr>\n",
       "    <tr>\n",
       "      <th>38862</th>\n",
       "      <td>P150033891</td>\n",
       "      <td>2015-03-15</td>\n",
       "      <td>2015-03-15 04:00:56</td>\n",
       "      <td>2015-03-15 04:59:59</td>\n",
       "      <td>59.07</td>\n",
       "      <td>NaN</td>\n",
       "      <td>NaN</td>\n",
       "    </tr>\n",
       "    <tr>\n",
       "      <th>38863</th>\n",
       "      <td>P150033891</td>\n",
       "      <td>2015-03-15</td>\n",
       "      <td>2015-03-15 19:00:00</td>\n",
       "      <td>2015-03-15 19:58:39</td>\n",
       "      <td>58.67</td>\n",
       "      <td>Gonzales Jacque</td>\n",
       "      <td>NaN</td>\n",
       "    </tr>\n",
       "    <tr>\n",
       "      <th>38866</th>\n",
       "      <td>P150033891</td>\n",
       "      <td>2015-03-15</td>\n",
       "      <td>2015-03-15 01:00:55</td>\n",
       "      <td>2015-03-15 01:59:59</td>\n",
       "      <td>59.08</td>\n",
       "      <td>Popaj Alberti</td>\n",
       "      <td>NaN</td>\n",
       "    </tr>\n",
       "    <tr>\n",
       "      <th>41311</th>\n",
       "      <td>P150062342</td>\n",
       "      <td>2015-02-15</td>\n",
       "      <td>2015-02-15 01:00:04</td>\n",
       "      <td>2015-02-15 01:58:57</td>\n",
       "      <td>58.90</td>\n",
       "      <td>NaN</td>\n",
       "      <td>NaN</td>\n",
       "    </tr>\n",
       "    <tr>\n",
       "      <th>41318</th>\n",
       "      <td>P150062342</td>\n",
       "      <td>2015-02-14</td>\n",
       "      <td>2015-02-14 22:00:04</td>\n",
       "      <td>2015-02-14 22:58:56</td>\n",
       "      <td>58.88</td>\n",
       "      <td>Domeier Rick</td>\n",
       "      <td>NaN</td>\n",
       "    </tr>\n",
       "    <tr>\n",
       "      <th>41321</th>\n",
       "      <td>P150062342</td>\n",
       "      <td>2015-02-13</td>\n",
       "      <td>2015-02-13 22:00:54</td>\n",
       "      <td>2015-02-13 22:59:02</td>\n",
       "      <td>58.15</td>\n",
       "      <td>NaN</td>\n",
       "      <td>NaN</td>\n",
       "    </tr>\n",
       "    <tr>\n",
       "      <th>41322</th>\n",
       "      <td>P150062342</td>\n",
       "      <td>2015-02-13</td>\n",
       "      <td>2015-02-13 19:00:54</td>\n",
       "      <td>2015-02-13 19:59:02</td>\n",
       "      <td>58.15</td>\n",
       "      <td>Gracie Carolyn</td>\n",
       "      <td>NaN</td>\n",
       "    </tr>\n",
       "    <tr>\n",
       "      <th>41478</th>\n",
       "      <td>P150067291</td>\n",
       "      <td>2015-03-15</td>\n",
       "      <td>2015-03-15 06:00:32</td>\n",
       "      <td>2015-03-15 06:58:21</td>\n",
       "      <td>57.83</td>\n",
       "      <td>Stauffer Stacey</td>\n",
       "      <td>NaN</td>\n",
       "    </tr>\n",
       "    <tr>\n",
       "      <th>41495</th>\n",
       "      <td>P150067291</td>\n",
       "      <td>2015-02-14</td>\n",
       "      <td>2015-02-14 13:01:22</td>\n",
       "      <td>2015-02-14 13:58:23</td>\n",
       "      <td>57.03</td>\n",
       "      <td>NaN</td>\n",
       "      <td>NaN</td>\n",
       "    </tr>\n",
       "    <tr>\n",
       "      <th>41520</th>\n",
       "      <td>P150067291</td>\n",
       "      <td>2015-02-14</td>\n",
       "      <td>2015-02-14 06:00:25</td>\n",
       "      <td>2015-02-14 06:57:28</td>\n",
       "      <td>57.07</td>\n",
       "      <td>Boesing Rachel</td>\n",
       "      <td>NaN</td>\n",
       "    </tr>\n",
       "    <tr>\n",
       "      <th>49943</th>\n",
       "      <td>P150067245</td>\n",
       "      <td>2015-02-28</td>\n",
       "      <td>2015-02-28 18:01:27</td>\n",
       "      <td>2015-02-28 18:58:26</td>\n",
       "      <td>57.00</td>\n",
       "      <td>NaN</td>\n",
       "      <td>NaN</td>\n",
       "    </tr>\n",
       "    <tr>\n",
       "      <th>49970</th>\n",
       "      <td>P150067245</td>\n",
       "      <td>2015-02-28</td>\n",
       "      <td>2015-02-28 14:01:32</td>\n",
       "      <td>2015-02-28 14:58:31</td>\n",
       "      <td>57.00</td>\n",
       "      <td>Killinger Shawn</td>\n",
       "      <td>NaN</td>\n",
       "    </tr>\n",
       "    <tr>\n",
       "      <th>52080</th>\n",
       "      <td>P150018305</td>\n",
       "      <td>2015-03-02</td>\n",
       "      <td>2015-03-02 18:01:25</td>\n",
       "      <td>2015-03-02 18:58:49</td>\n",
       "      <td>57.42</td>\n",
       "      <td>Rudolph TreacyJane</td>\n",
       "      <td>NaN</td>\n",
       "    </tr>\n",
       "    <tr>\n",
       "      <th>55860</th>\n",
       "      <td>P150062428</td>\n",
       "      <td>2015-03-11</td>\n",
       "      <td>2015-03-11 08:00:26</td>\n",
       "      <td>2015-03-11 08:59:16</td>\n",
       "      <td>58.85</td>\n",
       "      <td>Hughes Dan</td>\n",
       "      <td>NaN</td>\n",
       "    </tr>\n",
       "    <tr>\n",
       "      <th>55865</th>\n",
       "      <td>P150062428</td>\n",
       "      <td>2015-03-11</td>\n",
       "      <td>2015-03-11 00:00:21</td>\n",
       "      <td>2015-03-11 00:59:46</td>\n",
       "      <td>59.43</td>\n",
       "      <td>Domeier Rick</td>\n",
       "      <td>NaN</td>\n",
       "    </tr>\n",
       "    <tr>\n",
       "      <th>55870</th>\n",
       "      <td>P150062428</td>\n",
       "      <td>2015-03-11</td>\n",
       "      <td>2015-03-11 19:01:26</td>\n",
       "      <td>2015-03-11 19:59:19</td>\n",
       "      <td>57.90</td>\n",
       "      <td>Bauer Jill</td>\n",
       "      <td>NaN</td>\n",
       "    </tr>\n",
       "    <tr>\n",
       "      <th>55871</th>\n",
       "      <td>P150062428</td>\n",
       "      <td>2015-03-11</td>\n",
       "      <td>2015-03-11 00:00:20</td>\n",
       "      <td>2015-03-11 00:59:45</td>\n",
       "      <td>59.43</td>\n",
       "      <td>NaN</td>\n",
       "      <td>NaN</td>\n",
       "    </tr>\n",
       "    <tr>\n",
       "      <th>55876</th>\n",
       "      <td>P150062428</td>\n",
       "      <td>2015-03-11</td>\n",
       "      <td>2015-03-11 03:00:20</td>\n",
       "      <td>2015-03-11 03:59:45</td>\n",
       "      <td>59.43</td>\n",
       "      <td>NaN</td>\n",
       "      <td>NaN</td>\n",
       "    </tr>\n",
       "    <tr>\n",
       "      <th>55883</th>\n",
       "      <td>P150062428</td>\n",
       "      <td>2015-03-11</td>\n",
       "      <td>2015-03-11 11:00:25</td>\n",
       "      <td>2015-03-11 11:59:16</td>\n",
       "      <td>58.87</td>\n",
       "      <td>NaN</td>\n",
       "      <td>NaN</td>\n",
       "    </tr>\n",
       "    <tr>\n",
       "      <th>59015</th>\n",
       "      <td>P150062409</td>\n",
       "      <td>2015-03-22</td>\n",
       "      <td>2015-03-22 15:00:00</td>\n",
       "      <td>2015-03-22 15:58:10</td>\n",
       "      <td>58.18</td>\n",
       "      <td>NaN</td>\n",
       "      <td>NaN</td>\n",
       "    </tr>\n",
       "    <tr>\n",
       "      <th>59017</th>\n",
       "      <td>P150062409</td>\n",
       "      <td>2015-03-22</td>\n",
       "      <td>2015-03-22 12:02:36</td>\n",
       "      <td>2015-03-22 12:58:11</td>\n",
       "      <td>55.60</td>\n",
       "      <td>NaN</td>\n",
       "      <td>NaN</td>\n",
       "    </tr>\n",
       "    <tr>\n",
       "      <th>59018</th>\n",
       "      <td>P150062409</td>\n",
       "      <td>2015-03-22</td>\n",
       "      <td>2015-03-22 09:02:00</td>\n",
       "      <td>2015-03-22 09:59:24</td>\n",
       "      <td>57.42</td>\n",
       "      <td>NaN</td>\n",
       "      <td>NaN</td>\n",
       "    </tr>\n",
       "    <tr>\n",
       "      <th>59022</th>\n",
       "      <td>P150062409</td>\n",
       "      <td>2015-03-22</td>\n",
       "      <td>2015-03-22 03:00:22</td>\n",
       "      <td>2015-03-22 03:59:09</td>\n",
       "      <td>58.80</td>\n",
       "      <td>NaN</td>\n",
       "      <td>NaN</td>\n",
       "    </tr>\n",
       "    <tr>\n",
       "      <th>59029</th>\n",
       "      <td>P150062409</td>\n",
       "      <td>2015-03-22</td>\n",
       "      <td>2015-03-22 20:01:11</td>\n",
       "      <td>2015-03-22 20:58:24</td>\n",
       "      <td>57.23</td>\n",
       "      <td>Gracie Carolyn</td>\n",
       "      <td>NaN</td>\n",
       "    </tr>\n",
       "    <tr>\n",
       "      <th>59037</th>\n",
       "      <td>P150062409</td>\n",
       "      <td>2015-03-22</td>\n",
       "      <td>2015-03-22 11:02:36</td>\n",
       "      <td>2015-03-22 11:58:11</td>\n",
       "      <td>55.60</td>\n",
       "      <td>RoeMary Beth</td>\n",
       "      <td>NaN</td>\n",
       "    </tr>\n",
       "    <tr>\n",
       "      <th>59038</th>\n",
       "      <td>P150062409</td>\n",
       "      <td>2015-03-22</td>\n",
       "      <td>2015-03-22 08:02:00</td>\n",
       "      <td>2015-03-22 08:59:24</td>\n",
       "      <td>57.42</td>\n",
       "      <td>RoeMary Beth</td>\n",
       "      <td>NaN</td>\n",
       "    </tr>\n",
       "    <tr>\n",
       "      <th>59042</th>\n",
       "      <td>P150062409</td>\n",
       "      <td>2015-03-22</td>\n",
       "      <td>2015-03-22 00:00:21</td>\n",
       "      <td>2015-03-22 00:59:08</td>\n",
       "      <td>58.80</td>\n",
       "      <td>Domeier Rick</td>\n",
       "      <td>NaN</td>\n",
       "    </tr>\n",
       "  </tbody>\n",
       "</table>\n",
       "<p>98 rows × 7 columns</p>\n",
       "</div>"
      ],
      "text/plain": [
       "      PRODUCT_NBR  ONAIR_DATE      ONAIR_START_TMS        ONAIR_END_TMS  \\\n",
       "1039   P150028603  2015-01-01  2015-01-01 08:01:29  2015-01-01 08:57:35   \n",
       "3532   P150028674  2015-02-15  2015-02-15 12:00:00  2015-02-15 12:58:04   \n",
       "6742   P150062392  2015-01-05  2015-01-05 00:01:21  2015-01-05 00:58:48   \n",
       "6743   P150062392  2015-01-04  2015-01-04 22:00:42  2015-01-04 22:58:56   \n",
       "6745   P150062392  2015-01-04  2015-01-04 20:00:47  2015-01-04 20:59:59   \n",
       "6755   P150062392  2015-01-04  2015-01-04 12:00:43  2015-01-04 12:58:42   \n",
       "6764   P150062392  2015-01-04  2015-01-04 21:01:20  2015-01-04 21:58:49   \n",
       "6766   P150062392  2015-01-04  2015-01-04 18:02:04  2015-01-04 18:59:59   \n",
       "6767   P150062392  2015-01-04  2015-01-04 16:00:03  2015-01-04 16:59:32   \n",
       "6775   P150062392  2015-01-04  2015-01-04 09:00:43  2015-01-04 09:58:42   \n",
       "9458   P150033993  2015-01-10  2015-01-10 14:00:00  2015-01-10 14:59:06   \n",
       "11151  P150062049  2015-03-14  2015-03-14 05:01:25  2015-03-14 05:59:40   \n",
       "11152  P150062049  2015-03-12  2015-03-12 18:00:15  2015-03-12 18:58:30   \n",
       "11658  P150028449  2015-01-11  2015-01-11 11:02:34  2015-01-11 11:59:59   \n",
       "11661  P150028449  2015-01-11  2015-01-11 02:00:00  2015-01-11 02:58:16   \n",
       "11666  P150028449  2015-01-10  2015-01-10 22:00:57  2015-01-10 22:59:31   \n",
       "11738  P150025508  2015-01-11  2015-01-11 18:02:12  2015-01-11 18:59:08   \n",
       "11858  P150028599  2015-03-15  2015-03-15 15:02:04  2015-03-15 15:59:42   \n",
       "11861  P150028599  2015-03-15  2015-03-15 10:02:05  2015-03-15 10:59:45   \n",
       "11867  P150028599  2015-03-15  2015-03-15 07:02:05  2015-03-15 07:59:45   \n",
       "13518  P150067222  2015-03-19  2015-03-19 20:00:49  2015-03-19 20:58:16   \n",
       "13585  P150067310  2015-03-03  2015-03-03 09:00:54  2015-03-03 09:58:33   \n",
       "13586  P150067310  2015-03-03  2015-03-03 06:00:54  2015-03-03 06:58:34   \n",
       "15026  P150062089  2015-03-15  2015-03-15 05:00:51  2015-03-15 05:59:12   \n",
       "15030  P150062089  2015-03-13  2015-03-13 16:00:33  2015-03-13 16:58:54   \n",
       "15031  P150062089  2015-03-13  2015-03-13 08:00:00  2015-03-13 08:57:42   \n",
       "15033  P150062089  2015-02-18  2015-02-18 14:00:00  2015-02-18 14:57:52   \n",
       "15036  P150062089  2015-02-23  2015-02-23 18:00:11  2015-02-23 18:58:31   \n",
       "15037  P150062089  2015-02-23  2015-02-23 00:02:16  2015-02-23 00:59:39   \n",
       "15050  P150062089  2015-02-20  2015-02-20 05:01:49  2015-02-20 05:59:59   \n",
       "...           ...         ...                  ...                  ...   \n",
       "38857  P150033891  2015-03-18  2015-03-18 21:00:22  2015-03-18 21:59:43   \n",
       "38859  P150033891  2015-03-16  2015-03-16 20:00:44  2015-03-16 20:59:59   \n",
       "38860  P150033891  2015-03-15  2015-03-15 09:00:37  2015-03-15 09:59:58   \n",
       "38862  P150033891  2015-03-15  2015-03-15 04:00:56  2015-03-15 04:59:59   \n",
       "38863  P150033891  2015-03-15  2015-03-15 19:00:00  2015-03-15 19:58:39   \n",
       "38866  P150033891  2015-03-15  2015-03-15 01:00:55  2015-03-15 01:59:59   \n",
       "41311  P150062342  2015-02-15  2015-02-15 01:00:04  2015-02-15 01:58:57   \n",
       "41318  P150062342  2015-02-14  2015-02-14 22:00:04  2015-02-14 22:58:56   \n",
       "41321  P150062342  2015-02-13  2015-02-13 22:00:54  2015-02-13 22:59:02   \n",
       "41322  P150062342  2015-02-13  2015-02-13 19:00:54  2015-02-13 19:59:02   \n",
       "41478  P150067291  2015-03-15  2015-03-15 06:00:32  2015-03-15 06:58:21   \n",
       "41495  P150067291  2015-02-14  2015-02-14 13:01:22  2015-02-14 13:58:23   \n",
       "41520  P150067291  2015-02-14  2015-02-14 06:00:25  2015-02-14 06:57:28   \n",
       "49943  P150067245  2015-02-28  2015-02-28 18:01:27  2015-02-28 18:58:26   \n",
       "49970  P150067245  2015-02-28  2015-02-28 14:01:32  2015-02-28 14:58:31   \n",
       "52080  P150018305  2015-03-02  2015-03-02 18:01:25  2015-03-02 18:58:49   \n",
       "55860  P150062428  2015-03-11  2015-03-11 08:00:26  2015-03-11 08:59:16   \n",
       "55865  P150062428  2015-03-11  2015-03-11 00:00:21  2015-03-11 00:59:46   \n",
       "55870  P150062428  2015-03-11  2015-03-11 19:01:26  2015-03-11 19:59:19   \n",
       "55871  P150062428  2015-03-11  2015-03-11 00:00:20  2015-03-11 00:59:45   \n",
       "55876  P150062428  2015-03-11  2015-03-11 03:00:20  2015-03-11 03:59:45   \n",
       "55883  P150062428  2015-03-11  2015-03-11 11:00:25  2015-03-11 11:59:16   \n",
       "59015  P150062409  2015-03-22  2015-03-22 15:00:00  2015-03-22 15:58:10   \n",
       "59017  P150062409  2015-03-22  2015-03-22 12:02:36  2015-03-22 12:58:11   \n",
       "59018  P150062409  2015-03-22  2015-03-22 09:02:00  2015-03-22 09:59:24   \n",
       "59022  P150062409  2015-03-22  2015-03-22 03:00:22  2015-03-22 03:59:09   \n",
       "59029  P150062409  2015-03-22  2015-03-22 20:01:11  2015-03-22 20:58:24   \n",
       "59037  P150062409  2015-03-22  2015-03-22 11:02:36  2015-03-22 11:58:11   \n",
       "59038  P150062409  2015-03-22  2015-03-22 08:02:00  2015-03-22 08:59:24   \n",
       "59042  P150062409  2015-03-22  2015-03-22 00:00:21  2015-03-22 00:59:08   \n",
       "\n",
       "       ONAIR_MINS               HOST1 HOST2  \n",
       "1039        56.12                 NaN   NaN  \n",
       "3532        58.08                 NaN   NaN  \n",
       "6742        57.47                 NaN   NaN  \n",
       "6743        58.25                 NaN   NaN  \n",
       "6745        59.22                 NaN   NaN  \n",
       "6755        58.00                 NaN   NaN  \n",
       "6764        57.50         Wheeler Dan   NaN  \n",
       "6766        57.93          Bauer Jill   NaN  \n",
       "6767        59.50          Bauer Jill   NaN  \n",
       "6775        58.00          Hughes Dan   NaN  \n",
       "9458        59.12          Bauer Jill   NaN  \n",
       "11151       58.27                 NaN   NaN  \n",
       "11152       58.27                 NaN   NaN  \n",
       "11658       57.43                 NaN   NaN  \n",
       "11661       58.28                 NaN   NaN  \n",
       "11666       58.58     Killinger Shawn   NaN  \n",
       "11738       56.95                 NaN   NaN  \n",
       "11858       57.65                 NaN   NaN  \n",
       "11861       57.68                 NaN   NaN  \n",
       "11867       57.68     Stauffer Stacey   NaN  \n",
       "13518       57.47                 NaN   NaN  \n",
       "13585       57.67                 NaN   NaN  \n",
       "13586       57.68          Hughes Dan   NaN  \n",
       "15026       58.37                 NaN   NaN  \n",
       "15030       58.37                 NaN   NaN  \n",
       "15031       57.72                 NaN   NaN  \n",
       "15033       57.88                 NaN   NaN  \n",
       "15036       58.35                 NaN   NaN  \n",
       "15037       57.40                 NaN   NaN  \n",
       "15050       58.18                 NaN   NaN  \n",
       "...           ...                 ...   ...  \n",
       "38857       59.37                 NaN   NaN  \n",
       "38859       59.27                 NaN   NaN  \n",
       "38860       59.37                 NaN   NaN  \n",
       "38862       59.07                 NaN   NaN  \n",
       "38863       58.67     Gonzales Jacque   NaN  \n",
       "38866       59.08       Popaj Alberti   NaN  \n",
       "41311       58.90                 NaN   NaN  \n",
       "41318       58.88        Domeier Rick   NaN  \n",
       "41321       58.15                 NaN   NaN  \n",
       "41322       58.15      Gracie Carolyn   NaN  \n",
       "41478       57.83     Stauffer Stacey   NaN  \n",
       "41495       57.03                 NaN   NaN  \n",
       "41520       57.07      Boesing Rachel   NaN  \n",
       "49943       57.00                 NaN   NaN  \n",
       "49970       57.00     Killinger Shawn   NaN  \n",
       "52080       57.42  Rudolph TreacyJane   NaN  \n",
       "55860       58.85          Hughes Dan   NaN  \n",
       "55865       59.43        Domeier Rick   NaN  \n",
       "55870       57.90          Bauer Jill   NaN  \n",
       "55871       59.43                 NaN   NaN  \n",
       "55876       59.43                 NaN   NaN  \n",
       "55883       58.87                 NaN   NaN  \n",
       "59015       58.18                 NaN   NaN  \n",
       "59017       55.60                 NaN   NaN  \n",
       "59018       57.42                 NaN   NaN  \n",
       "59022       58.80                 NaN   NaN  \n",
       "59029       57.23      Gracie Carolyn   NaN  \n",
       "59037       55.60        RoeMary Beth   NaN  \n",
       "59038       57.42        RoeMary Beth   NaN  \n",
       "59042       58.80        Domeier Rick   NaN  \n",
       "\n",
       "[98 rows x 7 columns]"
      ]
     },
     "execution_count": 71,
     "metadata": {},
     "output_type": "execute_result"
    }
   ],
   "source": [
    "m = air['ONAIR_MINS'].mean()\n",
    "s = air['ONAIR_MINS'].std()\n",
    "\n",
    "air[air['ONAIR_MINS'] > m + 10 * s]"
   ]
  },
  {
   "cell_type": "markdown",
   "metadata": {},
   "source": [
    "## DB에서 불러오기"
   ]
  },
  {
   "cell_type": "code",
   "execution_count": 72,
   "metadata": {
    "collapsed": true
   },
   "outputs": [],
   "source": [
    "from sqlalchemy import create_engine"
   ]
  },
  {
   "cell_type": "code",
   "execution_count": 73,
   "metadata": {
    "collapsed": true
   },
   "outputs": [],
   "source": [
    "engine = create_engine('sqlite:///example.db')"
   ]
  },
  {
   "cell_type": "code",
   "execution_count": 74,
   "metadata": {
    "collapsed": true
   },
   "outputs": [],
   "source": [
    "conn = engine.connect()"
   ]
  },
  {
   "cell_type": "code",
   "execution_count": 75,
   "metadata": {
    "collapsed": false
   },
   "outputs": [
    {
     "data": {
      "text/plain": [
       "<sqlalchemy.engine.result.ResultProxy at 0x12cfe4e9390>"
      ]
     },
     "execution_count": 75,
     "metadata": {},
     "output_type": "execute_result"
    }
   ],
   "source": [
    "conn.execute('CREATE TABLE stocks (date text, price real)')"
   ]
  },
  {
   "cell_type": "code",
   "execution_count": 76,
   "metadata": {
    "collapsed": false
   },
   "outputs": [
    {
     "data": {
      "text/plain": [
       "<sqlalchemy.engine.result.ResultProxy at 0x12c80630c88>"
      ]
     },
     "execution_count": 76,
     "metadata": {},
     "output_type": "execute_result"
    }
   ],
   "source": [
    "conn.execute(\"INSERT INTO stocks (date, price) VALUES ('2017-08-01', 1000)\")"
   ]
  },
  {
   "cell_type": "code",
   "execution_count": 77,
   "metadata": {
    "collapsed": false
   },
   "outputs": [
    {
     "data": {
      "text/plain": [
       "<sqlalchemy.engine.result.ResultProxy at 0x12c80630e10>"
      ]
     },
     "execution_count": 77,
     "metadata": {},
     "output_type": "execute_result"
    }
   ],
   "source": [
    "conn.execute(\"INSERT INTO stocks (date, price) VALUES ('2017-08-02', 2000)\")"
   ]
  },
  {
   "cell_type": "code",
   "execution_count": 78,
   "metadata": {
    "collapsed": false
   },
   "outputs": [
    {
     "data": {
      "text/html": [
       "<div>\n",
       "<style>\n",
       "    .dataframe thead tr:only-child th {\n",
       "        text-align: right;\n",
       "    }\n",
       "\n",
       "    .dataframe thead th {\n",
       "        text-align: left;\n",
       "    }\n",
       "\n",
       "    .dataframe tbody tr th {\n",
       "        vertical-align: top;\n",
       "    }\n",
       "</style>\n",
       "<table border=\"1\" class=\"dataframe\">\n",
       "  <thead>\n",
       "    <tr style=\"text-align: right;\">\n",
       "      <th></th>\n",
       "      <th>date</th>\n",
       "      <th>price</th>\n",
       "    </tr>\n",
       "  </thead>\n",
       "  <tbody>\n",
       "    <tr>\n",
       "      <th>0</th>\n",
       "      <td>2017-08-01</td>\n",
       "      <td>1000.0</td>\n",
       "    </tr>\n",
       "    <tr>\n",
       "      <th>1</th>\n",
       "      <td>2017-08-02</td>\n",
       "      <td>2000.0</td>\n",
       "    </tr>\n",
       "  </tbody>\n",
       "</table>\n",
       "</div>"
      ],
      "text/plain": [
       "         date   price\n",
       "0  2017-08-01  1000.0\n",
       "1  2017-08-02  2000.0"
      ]
     },
     "execution_count": 78,
     "metadata": {},
     "output_type": "execute_result"
    }
   ],
   "source": [
    "pd.read_sql('SELECT * from stocks', conn)"
   ]
  }
 ],
 "metadata": {
  "anaconda-cloud": {},
  "kernelspec": {
   "display_name": "Python [conda root]",
   "language": "python",
   "name": "conda-root-py"
  },
  "language_info": {
   "codemirror_mode": {
    "name": "ipython",
    "version": 3
   },
   "file_extension": ".py",
   "mimetype": "text/x-python",
   "name": "python",
   "nbconvert_exporter": "python",
   "pygments_lexer": "ipython3",
   "version": "3.5.2"
  }
 },
 "nbformat": 4,
 "nbformat_minor": 1
}
